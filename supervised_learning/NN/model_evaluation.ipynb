{
 "cells": [
  {
   "cell_type": "markdown",
   "source": [
    "# Model evaluation and selection"
   ],
   "metadata": {}
  },
  {
   "cell_type": "code",
   "execution_count": 2,
   "source": [
    "import numpy as np\n",
    "import tensorflow as tf\n",
    "\n",
    "# for building linear regression models and preparing data\n",
    "from sklearn.linear_model import LinearRegression\n",
    "from sklearn.preprocessing import StandardScaler, PolynomialFeatures\n",
    "from sklearn.model_selection import train_test_split\n",
    "from sklearn.metrics import mean_squared_error\n",
    "\n",
    "# custom functions\n",
    "import utils\n",
    "\n",
    "# reduce display precision on numpy arrays\n",
    "np.set_printoptions(precision=2)\n",
    "\n",
    "# suppress warnings\n",
    "tf.get_logger().setLevel('ERROR')\n",
    "tf.autograph.set_verbosity(0)\n"
   ],
   "outputs": [],
   "metadata": {}
  },
  {
   "cell_type": "code",
   "execution_count": 3,
   "source": [
    "# Load the dataset from the text file\n",
    "data = np.loadtxt('./data/data_w3_ex1.csv', delimiter=',')\n",
    "\n",
    "# Split the inputs and outputs into separate arrays\n",
    "x = data[:,0]\n",
    "y = data[:,1]\n",
    "\n",
    "# Convert 1-D arrays into 2-D because the commands later will require it\n",
    "x = np.expand_dims(x, axis=1)\n",
    "y = np.expand_dims(y, axis=1)\n",
    "\n",
    "print(f\"the shape of the inputs x is: {x.shape}\")\n",
    "print(f\"the shape of the targets y is: {y.shape}\")"
   ],
   "outputs": [
    {
     "output_type": "stream",
     "name": "stdout",
     "text": [
      "the shape of the inputs x is: (50, 1)\n",
      "the shape of the targets y is: (50, 1)\n"
     ]
    }
   ],
   "metadata": {}
  },
  {
   "cell_type": "code",
   "execution_count": 4,
   "source": [
    "utils.plot_dataset(x=x, y=y, title=\"input vs. target\")"
   ],
   "outputs": [
    {
     "output_type": "display_data",
     "data": {
      "text/plain": [
       "<Figure size 1200x800 with 1 Axes>"
      ],
      "image/svg+xml": "<?xml version=\"1.0\" encoding=\"utf-8\" standalone=\"no\"?>\n<!DOCTYPE svg PUBLIC \"-//W3C//DTD SVG 1.1//EN\"\n  \"http://www.w3.org/Graphics/SVG/1.1/DTD/svg11.dtd\">\n<svg xmlns:xlink=\"http://www.w3.org/1999/xlink\" width=\"743.182261pt\" height=\"509.831175pt\" viewBox=\"0 0 743.182261 509.831175\" xmlns=\"http://www.w3.org/2000/svg\" version=\"1.1\">\n <metadata>\n  <rdf:RDF xmlns:dc=\"http://purl.org/dc/elements/1.1/\" xmlns:cc=\"http://creativecommons.org/ns#\" xmlns:rdf=\"http://www.w3.org/1999/02/22-rdf-syntax-ns#\">\n   <cc:Work>\n    <dc:type rdf:resource=\"http://purl.org/dc/dcmitype/StillImage\"/>\n    <dc:date>2023-03-24T13:03:04.272399</dc:date>\n    <dc:format>image/svg+xml</dc:format>\n    <dc:creator>\n     <cc:Agent>\n      <dc:title>Matplotlib v3.7.1, https://matplotlib.org/</dc:title>\n     </cc:Agent>\n    </dc:creator>\n   </cc:Work>\n  </rdf:RDF>\n </metadata>\n <defs>\n  <style type=\"text/css\">*{stroke-linejoin: round; stroke-linecap: butt}</style>\n </defs>\n <g id=\"figure_1\">\n  <g id=\"patch_1\">\n   <path d=\"M 0 509.831175 \nL 743.182261 509.831175 \nL 743.182261 0 \nL 0 0 \nz\n\" style=\"fill: #ffffff\"/>\n  </g>\n  <g id=\"axes_1\">\n   <g id=\"patch_2\">\n    <path d=\"M 51.427875 469.7583 \nL 721.027875 469.7583 \nL 721.027875 26.2383 \nL 51.427875 26.2383 \nz\n\" style=\"fill: #ffffff\"/>\n   </g>\n   <g id=\"matplotlib.axis_1\">\n    <g id=\"xtick_1\">\n     <g id=\"line2d_1\"/>\n     <g id=\"text_1\">\n      <!-- 1750 -->\n      <g transform=\"translate(96.737489 482.376425) scale(0.12 -0.12)\">\n       <defs>\n        <path id=\"Verdana-31\" d=\"M 3388 0 \nL 869 0 \nL 869 475 \nL 1838 475 \nL 1838 3594 \nL 869 3594 \nL 869 4019 \nQ 1066 4019 1291 4051 \nQ 1516 4084 1631 4147 \nQ 1775 4225 1858 4345 \nQ 1941 4466 1953 4669 \nL 2438 4669 \nL 2438 475 \nL 3388 475 \nL 3388 0 \nz\n\" transform=\"scale(0.015625)\"/>\n        <path id=\"Verdana-37\" d=\"M 3666 3956 \nL 1559 0 \nL 891 0 \nL 3131 4106 \nL 481 4106 \nL 481 4653 \nL 3666 4653 \nL 3666 3956 \nz\n\" transform=\"scale(0.015625)\"/>\n        <path id=\"Verdana-35\" d=\"M 3616 1478 \nQ 3616 1153 3497 856 \nQ 3378 559 3172 356 \nQ 2947 138 2636 20 \nQ 2325 -97 1916 -97 \nQ 1534 -97 1181 -17 \nQ 828 63 584 175 \nL 584 834 \nL 628 834 \nQ 884 672 1228 558 \nQ 1572 444 1903 444 \nQ 2125 444 2333 506 \nQ 2541 569 2703 725 \nQ 2841 859 2911 1046 \nQ 2981 1234 2981 1481 \nQ 2981 1722 2898 1887 \nQ 2816 2053 2669 2153 \nQ 2506 2272 2273 2320 \nQ 2041 2369 1753 2369 \nQ 1478 2369 1223 2331 \nQ 969 2294 784 2256 \nL 784 4653 \nL 3584 4653 \nL 3584 4106 \nL 1388 4106 \nL 1388 2869 \nQ 1522 2881 1662 2887 \nQ 1803 2894 1906 2894 \nQ 2284 2894 2568 2830 \nQ 2853 2766 3091 2603 \nQ 3341 2431 3478 2159 \nQ 3616 1888 3616 1478 \nz\n\" transform=\"scale(0.015625)\"/>\n        <path id=\"Verdana-30\" d=\"M 3647 2328 \nQ 3647 1075 3255 489 \nQ 2863 -97 2038 -97 \nQ 1200 -97 814 497 \nQ 428 1091 428 2322 \nQ 428 3563 818 4155 \nQ 1209 4747 2038 4747 \nQ 2875 4747 3261 4145 \nQ 3647 3544 3647 2328 \nz\nM 2825 909 \nQ 2934 1163 2973 1505 \nQ 3013 1847 3013 2328 \nQ 3013 2803 2973 3153 \nQ 2934 3503 2822 3747 \nQ 2713 3988 2523 4109 \nQ 2334 4231 2038 4231 \nQ 1744 4231 1551 4109 \nQ 1359 3988 1247 3741 \nQ 1141 3509 1102 3137 \nQ 1063 2766 1063 2322 \nQ 1063 1834 1097 1506 \nQ 1131 1178 1244 919 \nQ 1347 675 1536 547 \nQ 1725 419 2038 419 \nQ 2331 419 2525 541 \nQ 2719 663 2825 909 \nz\n\" transform=\"scale(0.015625)\"/>\n       </defs>\n       <use xlink:href=\"#Verdana-31\"/>\n       <use xlink:href=\"#Verdana-37\" x=\"63.574219\"/>\n       <use xlink:href=\"#Verdana-35\" x=\"127.148438\"/>\n       <use xlink:href=\"#Verdana-30\" x=\"190.722656\"/>\n      </g>\n     </g>\n    </g>\n    <g id=\"xtick_2\">\n     <g id=\"line2d_2\"/>\n     <g id=\"text_2\">\n      <!-- 2000 -->\n      <g transform=\"translate(172.828398 482.376425) scale(0.12 -0.12)\">\n       <defs>\n        <path id=\"Verdana-32\" d=\"M 3653 0 \nL 503 0 \nL 503 653 \nQ 831 934 1161 1215 \nQ 1491 1497 1775 1775 \nQ 2375 2356 2597 2698 \nQ 2819 3041 2819 3438 \nQ 2819 3800 2580 4004 \nQ 2341 4209 1913 4209 \nQ 1628 4209 1297 4109 \nQ 966 4009 650 3803 \nL 619 3803 \nL 619 4459 \nQ 841 4569 1211 4659 \nQ 1581 4750 1928 4750 \nQ 2644 4750 3050 4404 \nQ 3456 4059 3456 3469 \nQ 3456 3203 3389 2973 \nQ 3322 2744 3191 2538 \nQ 3069 2344 2905 2156 \nQ 2741 1969 2506 1741 \nQ 2172 1413 1815 1105 \nQ 1459 797 1150 534 \nL 3653 534 \nL 3653 0 \nz\n\" transform=\"scale(0.015625)\"/>\n       </defs>\n       <use xlink:href=\"#Verdana-32\"/>\n       <use xlink:href=\"#Verdana-30\" x=\"63.574219\"/>\n       <use xlink:href=\"#Verdana-30\" x=\"127.148438\"/>\n       <use xlink:href=\"#Verdana-30\" x=\"190.722656\"/>\n      </g>\n     </g>\n    </g>\n    <g id=\"xtick_3\">\n     <g id=\"line2d_3\"/>\n     <g id=\"text_3\">\n      <!-- 2250 -->\n      <g transform=\"translate(248.919307 482.376425) scale(0.12 -0.12)\">\n       <use xlink:href=\"#Verdana-32\"/>\n       <use xlink:href=\"#Verdana-32\" x=\"63.574219\"/>\n       <use xlink:href=\"#Verdana-35\" x=\"127.148438\"/>\n       <use xlink:href=\"#Verdana-30\" x=\"190.722656\"/>\n      </g>\n     </g>\n    </g>\n    <g id=\"xtick_4\">\n     <g id=\"line2d_4\"/>\n     <g id=\"text_4\">\n      <!-- 2500 -->\n      <g transform=\"translate(325.010216 482.376425) scale(0.12 -0.12)\">\n       <use xlink:href=\"#Verdana-32\"/>\n       <use xlink:href=\"#Verdana-35\" x=\"63.574219\"/>\n       <use xlink:href=\"#Verdana-30\" x=\"127.148438\"/>\n       <use xlink:href=\"#Verdana-30\" x=\"190.722656\"/>\n      </g>\n     </g>\n    </g>\n    <g id=\"xtick_5\">\n     <g id=\"line2d_5\"/>\n     <g id=\"text_5\">\n      <!-- 2750 -->\n      <g transform=\"translate(401.101125 482.376425) scale(0.12 -0.12)\">\n       <use xlink:href=\"#Verdana-32\"/>\n       <use xlink:href=\"#Verdana-37\" x=\"63.574219\"/>\n       <use xlink:href=\"#Verdana-35\" x=\"127.148438\"/>\n       <use xlink:href=\"#Verdana-30\" x=\"190.722656\"/>\n      </g>\n     </g>\n    </g>\n    <g id=\"xtick_6\">\n     <g id=\"line2d_6\"/>\n     <g id=\"text_6\">\n      <!-- 3000 -->\n      <g transform=\"translate(477.192034 482.376425) scale(0.12 -0.12)\">\n       <defs>\n        <path id=\"Verdana-33\" d=\"M 3244 2241 \nQ 3394 2106 3491 1903 \nQ 3588 1700 3588 1378 \nQ 3588 1059 3472 793 \nQ 3356 528 3147 331 \nQ 2913 113 2595 8 \nQ 2278 -97 1900 -97 \nQ 1513 -97 1138 -4 \nQ 763 88 522 197 \nL 522 850 \nL 569 850 \nQ 834 675 1193 559 \nQ 1553 444 1888 444 \nQ 2084 444 2306 509 \nQ 2528 575 2666 703 \nQ 2809 841 2879 1006 \nQ 2950 1172 2950 1425 \nQ 2950 1675 2870 1839 \nQ 2791 2003 2650 2097 \nQ 2509 2194 2309 2230 \nQ 2109 2266 1878 2266 \nL 1597 2266 \nL 1597 2784 \nL 1816 2784 \nQ 2291 2784 2573 2982 \nQ 2856 3181 2856 3563 \nQ 2856 3731 2784 3857 \nQ 2713 3984 2584 4066 \nQ 2450 4147 2297 4178 \nQ 2144 4209 1950 4209 \nQ 1653 4209 1318 4103 \nQ 984 3997 688 3803 \nL 656 3803 \nL 656 4456 \nQ 878 4566 1248 4658 \nQ 1619 4750 1966 4750 \nQ 2306 4750 2565 4687 \nQ 2825 4625 3034 4488 \nQ 3259 4338 3375 4125 \nQ 3491 3913 3491 3628 \nQ 3491 3241 3217 2952 \nQ 2944 2663 2572 2588 \nL 2572 2544 \nQ 2722 2519 2915 2439 \nQ 3109 2359 3244 2241 \nz\n\" transform=\"scale(0.015625)\"/>\n       </defs>\n       <use xlink:href=\"#Verdana-33\"/>\n       <use xlink:href=\"#Verdana-30\" x=\"63.574219\"/>\n       <use xlink:href=\"#Verdana-30\" x=\"127.148438\"/>\n       <use xlink:href=\"#Verdana-30\" x=\"190.722656\"/>\n      </g>\n     </g>\n    </g>\n    <g id=\"xtick_7\">\n     <g id=\"line2d_7\"/>\n     <g id=\"text_7\">\n      <!-- 3250 -->\n      <g transform=\"translate(553.282943 482.376425) scale(0.12 -0.12)\">\n       <use xlink:href=\"#Verdana-33\"/>\n       <use xlink:href=\"#Verdana-32\" x=\"63.574219\"/>\n       <use xlink:href=\"#Verdana-35\" x=\"127.148438\"/>\n       <use xlink:href=\"#Verdana-30\" x=\"190.722656\"/>\n      </g>\n     </g>\n    </g>\n    <g id=\"xtick_8\">\n     <g id=\"line2d_8\"/>\n     <g id=\"text_8\">\n      <!-- 3500 -->\n      <g transform=\"translate(629.373852 482.376425) scale(0.12 -0.12)\">\n       <use xlink:href=\"#Verdana-33\"/>\n       <use xlink:href=\"#Verdana-35\" x=\"63.574219\"/>\n       <use xlink:href=\"#Verdana-30\" x=\"127.148438\"/>\n       <use xlink:href=\"#Verdana-30\" x=\"190.722656\"/>\n      </g>\n     </g>\n    </g>\n    <g id=\"xtick_9\">\n     <g id=\"line2d_9\"/>\n     <g id=\"text_9\">\n      <!-- 3750 -->\n      <g transform=\"translate(705.464761 482.376425) scale(0.12 -0.12)\">\n       <use xlink:href=\"#Verdana-33\"/>\n       <use xlink:href=\"#Verdana-37\" x=\"63.574219\"/>\n       <use xlink:href=\"#Verdana-35\" x=\"127.148438\"/>\n       <use xlink:href=\"#Verdana-30\" x=\"190.722656\"/>\n      </g>\n     </g>\n    </g>\n    <g id=\"text_10\">\n     <!-- x -->\n     <g transform=\"translate(381.966375 499.733175) scale(0.144 -0.144)\">\n      <defs>\n       <path id=\"Verdana-78\" d=\"M 3600 0 \nL 2859 0 \nL 1869 1341 \nL 872 0 \nL 188 0 \nL 1550 1741 \nL 200 3491 \nL 941 3491 \nL 1925 2172 \nL 2913 3491 \nL 3600 3491 \nL 2228 1772 \nL 3600 0 \nz\n\" transform=\"scale(0.015625)\"/>\n      </defs>\n      <use xlink:href=\"#Verdana-78\"/>\n     </g>\n    </g>\n   </g>\n   <g id=\"matplotlib.axis_2\">\n    <g id=\"ytick_1\">\n     <g id=\"line2d_10\"/>\n     <g id=\"text_11\">\n      <!-- 500 -->\n      <g transform=\"translate(25.03975 397.364895) scale(0.12 -0.12)\">\n       <use xlink:href=\"#Verdana-35\"/>\n       <use xlink:href=\"#Verdana-30\" x=\"63.574219\"/>\n       <use xlink:href=\"#Verdana-30\" x=\"127.148438\"/>\n      </g>\n     </g>\n    </g>\n    <g id=\"ytick_2\">\n     <g id=\"line2d_11\"/>\n     <g id=\"text_12\">\n      <!-- 600 -->\n      <g transform=\"translate(25.03975 313.046506) scale(0.12 -0.12)\">\n       <defs>\n        <path id=\"Verdana-36\" d=\"M 3722 1509 \nQ 3722 800 3255 351 \nQ 2788 -97 2109 -97 \nQ 1766 -97 1484 9 \nQ 1203 116 988 325 \nQ 719 584 573 1012 \nQ 428 1441 428 2044 \nQ 428 2663 561 3141 \nQ 694 3619 984 3991 \nQ 1259 4344 1693 4542 \nQ 2128 4741 2706 4741 \nQ 2891 4741 3016 4725 \nQ 3141 4709 3269 4669 \nL 3269 4072 \nL 3238 4072 \nQ 3150 4119 2973 4161 \nQ 2797 4203 2613 4203 \nQ 1941 4203 1541 3783 \nQ 1141 3363 1075 2647 \nQ 1338 2806 1592 2889 \nQ 1847 2972 2181 2972 \nQ 2478 2972 2704 2917 \nQ 2931 2863 3169 2697 \nQ 3444 2506 3583 2215 \nQ 3722 1925 3722 1509 \nz\nM 3088 1484 \nQ 3088 1775 3002 1965 \nQ 2916 2156 2719 2297 \nQ 2575 2397 2400 2428 \nQ 2225 2459 2034 2459 \nQ 1769 2459 1541 2396 \nQ 1313 2334 1072 2203 \nQ 1066 2134 1062 2070 \nQ 1059 2006 1059 1909 \nQ 1059 1416 1161 1130 \nQ 1263 844 1441 678 \nQ 1584 541 1751 477 \nQ 1919 413 2116 413 \nQ 2569 413 2828 689 \nQ 3088 966 3088 1484 \nz\n\" transform=\"scale(0.015625)\"/>\n       </defs>\n       <use xlink:href=\"#Verdana-36\"/>\n       <use xlink:href=\"#Verdana-30\" x=\"63.574219\"/>\n       <use xlink:href=\"#Verdana-30\" x=\"127.148438\"/>\n      </g>\n     </g>\n    </g>\n    <g id=\"ytick_3\">\n     <g id=\"line2d_12\"/>\n     <g id=\"text_13\">\n      <!-- 700 -->\n      <g transform=\"translate(25.03975 228.728116) scale(0.12 -0.12)\">\n       <use xlink:href=\"#Verdana-37\"/>\n       <use xlink:href=\"#Verdana-30\" x=\"63.574219\"/>\n       <use xlink:href=\"#Verdana-30\" x=\"127.148438\"/>\n      </g>\n     </g>\n    </g>\n    <g id=\"ytick_4\">\n     <g id=\"line2d_13\"/>\n     <g id=\"text_14\">\n      <!-- 800 -->\n      <g transform=\"translate(25.03975 144.409727) scale(0.12 -0.12)\">\n       <defs>\n        <path id=\"Verdana-38\" d=\"M 3688 1297 \nQ 3688 694 3217 294 \nQ 2747 -106 2034 -106 \nQ 1278 -106 829 284 \nQ 381 675 381 1284 \nQ 381 1672 606 1986 \nQ 831 2300 1241 2484 \nL 1241 2503 \nQ 866 2703 686 2940 \nQ 506 3178 506 3534 \nQ 506 4059 937 4409 \nQ 1369 4759 2034 4759 \nQ 2731 4759 3147 4425 \nQ 3563 4091 3563 3575 \nQ 3563 3259 3366 2954 \nQ 3169 2650 2788 2478 \nL 2788 2459 \nQ 3225 2272 3456 1997 \nQ 3688 1722 3688 1297 \nz\nM 2947 3569 \nQ 2947 3903 2689 4101 \nQ 2431 4300 2031 4300 \nQ 1638 4300 1386 4112 \nQ 1134 3925 1134 3606 \nQ 1134 3381 1261 3217 \nQ 1388 3053 1644 2925 \nQ 1759 2869 1976 2778 \nQ 2194 2688 2400 2628 \nQ 2709 2834 2828 3056 \nQ 2947 3278 2947 3569 \nz\nM 3044 1238 \nQ 3044 1525 2917 1698 \nQ 2791 1872 2422 2047 \nQ 2275 2116 2100 2175 \nQ 1925 2234 1634 2341 \nQ 1353 2188 1183 1925 \nQ 1013 1663 1013 1331 \nQ 1013 909 1303 634 \nQ 1594 359 2041 359 \nQ 2497 359 2770 593 \nQ 3044 828 3044 1238 \nz\n\" transform=\"scale(0.015625)\"/>\n       </defs>\n       <use xlink:href=\"#Verdana-38\"/>\n       <use xlink:href=\"#Verdana-30\" x=\"63.574219\"/>\n       <use xlink:href=\"#Verdana-30\" x=\"127.148438\"/>\n      </g>\n     </g>\n    </g>\n    <g id=\"ytick_5\">\n     <g id=\"line2d_14\"/>\n     <g id=\"text_15\">\n      <!-- 900 -->\n      <g transform=\"translate(25.03975 60.091338) scale(0.12 -0.12)\">\n       <defs>\n        <path id=\"Verdana-39\" d=\"M 3647 2606 \nQ 3647 1997 3508 1500 \nQ 3369 1003 3088 653 \nQ 2803 297 2375 103 \nQ 1947 -91 1369 -91 \nQ 1206 -91 1062 -73 \nQ 919 -56 806 -19 \nL 806 578 \nL 838 578 \nQ 928 531 1093 489 \nQ 1259 447 1463 447 \nQ 2153 447 2545 861 \nQ 2938 1275 3000 2003 \nQ 2709 1828 2453 1753 \nQ 2197 1678 1894 1678 \nQ 1606 1678 1373 1734 \nQ 1141 1791 906 1953 \nQ 631 2144 492 2437 \nQ 353 2731 353 3141 \nQ 353 3853 822 4300 \nQ 1291 4747 1966 4747 \nQ 2303 4747 2590 4642 \nQ 2878 4538 3094 4328 \nQ 3359 4069 3503 3661 \nQ 3647 3253 3647 2606 \nz\nM 3016 2741 \nQ 3016 3225 2916 3519 \nQ 2816 3813 2641 3975 \nQ 2494 4116 2325 4177 \nQ 2156 4238 1959 4238 \nQ 1509 4238 1248 3956 \nQ 988 3675 988 3166 \nQ 988 2869 1072 2681 \nQ 1156 2494 1356 2353 \nQ 1497 2256 1665 2223 \nQ 1834 2191 2041 2191 \nQ 2284 2191 2534 2256 \nQ 2784 2322 3003 2447 \nQ 3006 2513 3011 2577 \nQ 3016 2641 3016 2741 \nz\n\" transform=\"scale(0.015625)\"/>\n       </defs>\n       <use xlink:href=\"#Verdana-39\"/>\n       <use xlink:href=\"#Verdana-30\" x=\"63.574219\"/>\n       <use xlink:href=\"#Verdana-30\" x=\"127.148438\"/>\n      </g>\n     </g>\n    </g>\n    <g id=\"text_16\">\n     <!-- y -->\n     <g transform=\"translate(18.14175 252.2598) rotate(-90) scale(0.144 -0.144)\">\n      <defs>\n       <path id=\"Verdana-79\" d=\"M 3597 3491 \nL 1559 -1288 \nL 931 -1288 \nL 1581 169 \nL 191 3491 \nL 828 3491 \nL 1900 903 \nL 2981 3491 \nL 3597 3491 \nz\n\" transform=\"scale(0.015625)\"/>\n      </defs>\n      <use xlink:href=\"#Verdana-79\"/>\n     </g>\n    </g>\n   </g>\n   <g id=\"PathCollection_1\">\n    <defs>\n     <path id=\"ma24f068dc3\" d=\"M -6 6 \nL 6 -6 \nM -6 -6 \nL 6 6 \n\" style=\"stroke: #ff0000; stroke-width: 4\"/>\n    </defs>\n    <g clip-path=\"url(#p7309398abb)\">\n     <use xlink:href=\"#ma24f068dc3\" x=\"81.864239\" y=\"449.5983\" style=\"fill: #ff0000; stroke: #ff0000; stroke-width: 4\"/>\n     <use xlink:href=\"#ma24f068dc3\" x=\"94.287244\" y=\"430.803468\" style=\"fill: #ff0000; stroke: #ff0000; stroke-width: 4\"/>\n     <use xlink:href=\"#ma24f068dc3\" x=\"106.71025\" y=\"416.815285\" style=\"fill: #ff0000; stroke: #ff0000; stroke-width: 4\"/>\n     <use xlink:href=\"#ma24f068dc3\" x=\"119.133255\" y=\"407.556163\" style=\"fill: #ff0000; stroke: #ff0000; stroke-width: 4\"/>\n     <use xlink:href=\"#ma24f068dc3\" x=\"131.556261\" y=\"419.485953\" style=\"fill: #ff0000; stroke: #ff0000; stroke-width: 4\"/>\n     <use xlink:href=\"#ma24f068dc3\" x=\"143.979266\" y=\"407.854531\" style=\"fill: #ff0000; stroke: #ff0000; stroke-width: 4\"/>\n     <use xlink:href=\"#ma24f068dc3\" x=\"156.402272\" y=\"359.060133\" style=\"fill: #ff0000; stroke: #ff0000; stroke-width: 4\"/>\n     <use xlink:href=\"#ma24f068dc3\" x=\"168.825278\" y=\"363.644935\" style=\"fill: #ff0000; stroke: #ff0000; stroke-width: 4\"/>\n     <use xlink:href=\"#ma24f068dc3\" x=\"181.248283\" y=\"343.60925\" style=\"fill: #ff0000; stroke: #ff0000; stroke-width: 4\"/>\n     <use xlink:href=\"#ma24f068dc3\" x=\"193.671289\" y=\"336.798654\" style=\"fill: #ff0000; stroke: #ff0000; stroke-width: 4\"/>\n     <use xlink:href=\"#ma24f068dc3\" x=\"206.094294\" y=\"324.172644\" style=\"fill: #ff0000; stroke: #ff0000; stroke-width: 4\"/>\n     <use xlink:href=\"#ma24f068dc3\" x=\"218.5173\" y=\"311.473379\" style=\"fill: #ff0000; stroke: #ff0000; stroke-width: 4\"/>\n     <use xlink:href=\"#ma24f068dc3\" x=\"230.940305\" y=\"311.257444\" style=\"fill: #ff0000; stroke: #ff0000; stroke-width: 4\"/>\n     <use xlink:href=\"#ma24f068dc3\" x=\"243.363311\" y=\"292.086344\" style=\"fill: #ff0000; stroke: #ff0000; stroke-width: 4\"/>\n     <use xlink:href=\"#ma24f068dc3\" x=\"255.786317\" y=\"294.510603\" style=\"fill: #ff0000; stroke: #ff0000; stroke-width: 4\"/>\n     <use xlink:href=\"#ma24f068dc3\" x=\"268.209322\" y=\"263.661713\" style=\"fill: #ff0000; stroke: #ff0000; stroke-width: 4\"/>\n     <use xlink:href=\"#ma24f068dc3\" x=\"280.632328\" y=\"252.398917\" style=\"fill: #ff0000; stroke: #ff0000; stroke-width: 4\"/>\n     <use xlink:href=\"#ma24f068dc3\" x=\"293.055333\" y=\"248.967295\" style=\"fill: #ff0000; stroke: #ff0000; stroke-width: 4\"/>\n     <use xlink:href=\"#ma24f068dc3\" x=\"305.478339\" y=\"250.288456\" style=\"fill: #ff0000; stroke: #ff0000; stroke-width: 4\"/>\n     <use xlink:href=\"#ma24f068dc3\" x=\"317.901344\" y=\"241.952373\" style=\"fill: #ff0000; stroke: #ff0000; stroke-width: 4\"/>\n     <use xlink:href=\"#ma24f068dc3\" x=\"330.32435\" y=\"217.898325\" style=\"fill: #ff0000; stroke: #ff0000; stroke-width: 4\"/>\n     <use xlink:href=\"#ma24f068dc3\" x=\"342.747356\" y=\"215.096152\" style=\"fill: #ff0000; stroke: #ff0000; stroke-width: 4\"/>\n     <use xlink:href=\"#ma24f068dc3\" x=\"355.170361\" y=\"186.064443\" style=\"fill: #ff0000; stroke: #ff0000; stroke-width: 4\"/>\n     <use xlink:href=\"#ma24f068dc3\" x=\"367.593367\" y=\"199.003588\" style=\"fill: #ff0000; stroke: #ff0000; stroke-width: 4\"/>\n     <use xlink:href=\"#ma24f068dc3\" x=\"380.016372\" y=\"187.235136\" style=\"fill: #ff0000; stroke: #ff0000; stroke-width: 4\"/>\n     <use xlink:href=\"#ma24f068dc3\" x=\"392.439378\" y=\"191.95716\" style=\"fill: #ff0000; stroke: #ff0000; stroke-width: 4\"/>\n     <use xlink:href=\"#ma24f068dc3\" x=\"404.862383\" y=\"162.662059\" style=\"fill: #ff0000; stroke: #ff0000; stroke-width: 4\"/>\n     <use xlink:href=\"#ma24f068dc3\" x=\"417.285389\" y=\"163.276248\" style=\"fill: #ff0000; stroke: #ff0000; stroke-width: 4\"/>\n     <use xlink:href=\"#ma24f068dc3\" x=\"429.708394\" y=\"153.161324\" style=\"fill: #ff0000; stroke: #ff0000; stroke-width: 4\"/>\n     <use xlink:href=\"#ma24f068dc3\" x=\"442.1314\" y=\"159.72231\" style=\"fill: #ff0000; stroke: #ff0000; stroke-width: 4\"/>\n     <use xlink:href=\"#ma24f068dc3\" x=\"454.554406\" y=\"135.823396\" style=\"fill: #ff0000; stroke: #ff0000; stroke-width: 4\"/>\n     <use xlink:href=\"#ma24f068dc3\" x=\"466.977411\" y=\"111.795863\" style=\"fill: #ff0000; stroke: #ff0000; stroke-width: 4\"/>\n     <use xlink:href=\"#ma24f068dc3\" x=\"479.400417\" y=\"118.188959\" style=\"fill: #ff0000; stroke: #ff0000; stroke-width: 4\"/>\n     <use xlink:href=\"#ma24f068dc3\" x=\"491.823422\" y=\"122.09884\" style=\"fill: #ff0000; stroke: #ff0000; stroke-width: 4\"/>\n     <use xlink:href=\"#ma24f068dc3\" x=\"504.246428\" y=\"111.332468\" style=\"fill: #ff0000; stroke: #ff0000; stroke-width: 4\"/>\n     <use xlink:href=\"#ma24f068dc3\" x=\"516.669433\" y=\"111.973807\" style=\"fill: #ff0000; stroke: #ff0000; stroke-width: 4\"/>\n     <use xlink:href=\"#ma24f068dc3\" x=\"529.092439\" y=\"118.182462\" style=\"fill: #ff0000; stroke: #ff0000; stroke-width: 4\"/>\n     <use xlink:href=\"#ma24f068dc3\" x=\"541.515445\" y=\"103.106956\" style=\"fill: #ff0000; stroke: #ff0000; stroke-width: 4\"/>\n     <use xlink:href=\"#ma24f068dc3\" x=\"553.93845\" y=\"81.337483\" style=\"fill: #ff0000; stroke: #ff0000; stroke-width: 4\"/>\n     <use xlink:href=\"#ma24f068dc3\" x=\"566.361456\" y=\"96.424152\" style=\"fill: #ff0000; stroke: #ff0000; stroke-width: 4\"/>\n     <use xlink:href=\"#ma24f068dc3\" x=\"578.784461\" y=\"86.57615\" style=\"fill: #ff0000; stroke: #ff0000; stroke-width: 4\"/>\n     <use xlink:href=\"#ma24f068dc3\" x=\"591.207467\" y=\"95.156848\" style=\"fill: #ff0000; stroke: #ff0000; stroke-width: 4\"/>\n     <use xlink:href=\"#ma24f068dc3\" x=\"603.630472\" y=\"74.793333\" style=\"fill: #ff0000; stroke: #ff0000; stroke-width: 4\"/>\n     <use xlink:href=\"#ma24f068dc3\" x=\"616.053478\" y=\"86.104441\" style=\"fill: #ff0000; stroke: #ff0000; stroke-width: 4\"/>\n     <use xlink:href=\"#ma24f068dc3\" x=\"628.476484\" y=\"76.888487\" style=\"fill: #ff0000; stroke: #ff0000; stroke-width: 4\"/>\n     <use xlink:href=\"#ma24f068dc3\" x=\"640.899489\" y=\"74.304638\" style=\"fill: #ff0000; stroke: #ff0000; stroke-width: 4\"/>\n     <use xlink:href=\"#ma24f068dc3\" x=\"653.322495\" y=\"77.360116\" style=\"fill: #ff0000; stroke: #ff0000; stroke-width: 4\"/>\n     <use xlink:href=\"#ma24f068dc3\" x=\"665.7455\" y=\"70.03226\" style=\"fill: #ff0000; stroke: #ff0000; stroke-width: 4\"/>\n     <use xlink:href=\"#ma24f068dc3\" x=\"678.168506\" y=\"46.3983\" style=\"fill: #ff0000; stroke: #ff0000; stroke-width: 4\"/>\n     <use xlink:href=\"#ma24f068dc3\" x=\"690.591511\" y=\"57.7073\" style=\"fill: #ff0000; stroke: #ff0000; stroke-width: 4\"/>\n    </g>\n   </g>\n   <g id=\"patch_3\">\n    <path d=\"M 51.427875 469.7583 \nL 51.427875 26.2383 \n\" style=\"fill: none; stroke: #f0f0f0; stroke-width: 3; stroke-linejoin: miter; stroke-linecap: square\"/>\n   </g>\n   <g id=\"patch_4\">\n    <path d=\"M 721.027875 469.7583 \nL 721.027875 26.2383 \n\" style=\"fill: none; stroke: #f0f0f0; stroke-width: 3; stroke-linejoin: miter; stroke-linecap: square\"/>\n   </g>\n   <g id=\"patch_5\">\n    <path d=\"M 51.427875 469.7583 \nL 721.027875 469.7583 \n\" style=\"fill: none; stroke: #f0f0f0; stroke-width: 3; stroke-linejoin: miter; stroke-linecap: square\"/>\n   </g>\n   <g id=\"patch_6\">\n    <path d=\"M 51.427875 26.2383 \nL 721.027875 26.2383 \n\" style=\"fill: none; stroke: #f0f0f0; stroke-width: 3; stroke-linejoin: miter; stroke-linecap: square\"/>\n   </g>\n   <g id=\"text_17\">\n    <!-- input vs. target -->\n    <g transform=\"translate(319.084275 20.2383) scale(0.1728 -0.1728)\">\n     <defs>\n      <path id=\"Verdana-69\" d=\"M 1209 4075 \nL 547 4075 \nL 547 4684 \nL 1209 4684 \nL 1209 4075 \nz\nM 1172 0 \nL 584 0 \nL 584 3491 \nL 1172 3491 \nL 1172 0 \nz\n\" transform=\"scale(0.015625)\"/>\n      <path id=\"Verdana-6e\" d=\"M 3497 0 \nL 2909 0 \nL 2909 1988 \nQ 2909 2228 2881 2439 \nQ 2853 2650 2778 2769 \nQ 2700 2900 2553 2964 \nQ 2406 3028 2172 3028 \nQ 1931 3028 1668 2909 \nQ 1406 2791 1166 2606 \nL 1166 0 \nL 578 0 \nL 578 3491 \nL 1166 3491 \nL 1166 3103 \nQ 1441 3331 1734 3459 \nQ 2028 3588 2338 3588 \nQ 2903 3588 3200 3247 \nQ 3497 2906 3497 2266 \nL 3497 0 \nz\n\" transform=\"scale(0.015625)\"/>\n      <path id=\"Verdana-70\" d=\"M 3650 1788 \nQ 3650 1363 3528 1011 \nQ 3406 659 3184 416 \nQ 2978 184 2698 57 \nQ 2419 -69 2106 -69 \nQ 1834 -69 1614 -9 \nQ 1394 50 1166 175 \nL 1166 -1288 \nL 578 -1288 \nL 578 3491 \nL 1166 3491 \nL 1166 3125 \nQ 1400 3322 1692 3455 \nQ 1984 3588 2316 3588 \nQ 2947 3588 3298 3111 \nQ 3650 2634 3650 1788 \nz\nM 3044 1772 \nQ 3044 2403 2828 2715 \nQ 2613 3028 2166 3028 \nQ 1913 3028 1656 2918 \nQ 1400 2809 1166 2631 \nL 1166 653 \nQ 1416 541 1595 500 \nQ 1775 459 2003 459 \nQ 2494 459 2769 790 \nQ 3044 1122 3044 1772 \nz\n\" transform=\"scale(0.015625)\"/>\n      <path id=\"Verdana-75\" d=\"M 3472 0 \nL 2884 0 \nL 2884 388 \nQ 2588 153 2316 28 \nQ 2044 -97 1716 -97 \nQ 1166 -97 859 239 \nQ 553 575 553 1225 \nL 553 3491 \nL 1141 3491 \nL 1141 1503 \nQ 1141 1238 1166 1048 \nQ 1191 859 1272 725 \nQ 1356 588 1490 525 \nQ 1625 463 1881 463 \nQ 2109 463 2379 581 \nQ 2650 700 2884 884 \nL 2884 3491 \nL 3472 3491 \nL 3472 0 \nz\n\" transform=\"scale(0.015625)\"/>\n      <path id=\"Verdana-74\" d=\"M 2391 31 \nQ 2225 -13 2029 -41 \nQ 1834 -69 1681 -69 \nQ 1147 -69 869 218 \nQ 591 506 591 1141 \nL 591 2997 \nL 194 2997 \nL 194 3491 \nL 591 3491 \nL 591 4494 \nL 1178 4494 \nL 1178 3491 \nL 2391 3491 \nL 2391 2997 \nL 1178 2997 \nL 1178 1406 \nQ 1178 1131 1190 976 \nQ 1203 822 1278 688 \nQ 1347 563 1467 505 \nQ 1588 447 1834 447 \nQ 1978 447 2134 489 \nQ 2291 531 2359 559 \nL 2391 559 \nL 2391 31 \nz\n\" transform=\"scale(0.015625)\"/>\n      <path id=\"Verdana-20\" transform=\"scale(0.015625)\"/>\n      <path id=\"Verdana-76\" d=\"M 3597 3491 \nL 2184 0 \nL 1594 0 \nL 191 3491 \nL 828 3491 \nL 1909 713 \nL 2981 3491 \nL 3597 3491 \nz\n\" transform=\"scale(0.015625)\"/>\n      <path id=\"Verdana-73\" d=\"M 3072 1006 \nQ 3072 528 2676 222 \nQ 2281 -84 1597 -84 \nQ 1209 -84 886 8 \nQ 563 100 344 209 \nL 344 869 \nL 375 869 \nQ 653 659 993 536 \nQ 1334 413 1647 413 \nQ 2034 413 2253 538 \nQ 2472 663 2472 931 \nQ 2472 1138 2353 1244 \nQ 2234 1350 1897 1425 \nQ 1772 1453 1570 1490 \nQ 1369 1528 1203 1572 \nQ 744 1694 551 1930 \nQ 359 2166 359 2509 \nQ 359 2725 448 2915 \nQ 538 3106 719 3256 \nQ 894 3403 1164 3489 \nQ 1434 3575 1769 3575 \nQ 2081 3575 2401 3498 \nQ 2722 3422 2934 3313 \nL 2934 2684 \nL 2903 2684 \nQ 2678 2850 2356 2964 \nQ 2034 3078 1725 3078 \nQ 1403 3078 1181 2954 \nQ 959 2831 959 2588 \nQ 959 2372 1094 2263 \nQ 1225 2153 1519 2084 \nQ 1681 2047 1882 2009 \nQ 2084 1972 2219 1941 \nQ 2628 1847 2850 1619 \nQ 3072 1388 3072 1006 \nz\n\" transform=\"scale(0.015625)\"/>\n      <path id=\"Verdana-2e\" d=\"M 1538 0 \nL 791 0 \nL 791 891 \nL 1538 891 \nL 1538 0 \nz\n\" transform=\"scale(0.015625)\"/>\n      <path id=\"Verdana-61\" d=\"M 3291 0 \nL 2706 0 \nL 2706 372 \nQ 2628 319 2495 223 \nQ 2363 128 2238 72 \nQ 2091 0 1900 -48 \nQ 1709 -97 1453 -97 \nQ 981 -97 653 215 \nQ 325 528 325 1013 \nQ 325 1409 495 1654 \nQ 666 1900 981 2041 \nQ 1300 2181 1747 2231 \nQ 2194 2281 2706 2306 \nL 2706 2397 \nQ 2706 2597 2636 2728 \nQ 2566 2859 2434 2934 \nQ 2309 3006 2134 3031 \nQ 1959 3056 1769 3056 \nQ 1538 3056 1253 2995 \nQ 969 2934 666 2819 \nL 634 2819 \nL 634 3416 \nQ 806 3463 1131 3519 \nQ 1456 3575 1772 3575 \nQ 2141 3575 2414 3514 \nQ 2688 3453 2888 3306 \nQ 3084 3163 3187 2934 \nQ 3291 2706 3291 2369 \nL 3291 0 \nz\nM 2706 859 \nL 2706 1831 \nQ 2438 1816 2073 1784 \nQ 1709 1753 1497 1694 \nQ 1244 1622 1087 1470 \nQ 931 1319 931 1053 \nQ 931 753 1112 601 \nQ 1294 450 1666 450 \nQ 1975 450 2231 570 \nQ 2488 691 2706 859 \nz\n\" transform=\"scale(0.015625)\"/>\n      <path id=\"Verdana-72\" d=\"M 2756 2850 \nL 2725 2850 \nQ 2594 2881 2470 2895 \nQ 2347 2909 2178 2909 \nQ 1906 2909 1653 2789 \nQ 1400 2669 1166 2478 \nL 1166 0 \nL 578 0 \nL 578 3491 \nL 1166 3491 \nL 1166 2975 \nQ 1516 3256 1783 3373 \nQ 2050 3491 2328 3491 \nQ 2481 3491 2550 3483 \nQ 2619 3475 2756 3453 \nL 2756 2850 \nz\n\" transform=\"scale(0.015625)\"/>\n      <path id=\"Verdana-67\" d=\"M 3409 397 \nQ 3409 -491 3006 -906 \nQ 2603 -1322 1766 -1322 \nQ 1488 -1322 1223 -1283 \nQ 959 -1244 703 -1172 \nL 703 -572 \nL 734 -572 \nQ 878 -628 1190 -711 \nQ 1503 -794 1816 -794 \nQ 2116 -794 2312 -722 \nQ 2509 -650 2619 -522 \nQ 2728 -400 2775 -228 \nQ 2822 -56 2822 156 \nL 2822 475 \nQ 2556 263 2314 158 \nQ 2072 53 1697 53 \nQ 1072 53 705 504 \nQ 338 956 338 1778 \nQ 338 2228 464 2554 \nQ 591 2881 809 3119 \nQ 1013 3341 1303 3464 \nQ 1594 3588 1881 3588 \nQ 2184 3588 2389 3527 \nQ 2594 3466 2822 3341 \nL 2859 3491 \nL 3409 3491 \nL 3409 397 \nz\nM 2822 959 \nL 2822 2863 \nQ 2588 2969 2386 3014 \nQ 2184 3059 1984 3059 \nQ 1500 3059 1222 2734 \nQ 944 2409 944 1791 \nQ 944 1203 1150 900 \nQ 1356 597 1834 597 \nQ 2091 597 2348 695 \nQ 2606 794 2822 959 \nz\n\" transform=\"scale(0.015625)\"/>\n      <path id=\"Verdana-65\" d=\"M 3500 1684 \nL 928 1684 \nQ 928 1363 1025 1123 \nQ 1122 884 1291 731 \nQ 1453 581 1676 506 \nQ 1900 431 2169 431 \nQ 2525 431 2886 573 \nQ 3247 716 3400 853 \nL 3431 853 \nL 3431 213 \nQ 3134 88 2825 3 \nQ 2516 -81 2175 -81 \nQ 1306 -81 818 389 \nQ 331 859 331 1725 \nQ 331 2581 798 3084 \nQ 1266 3588 2028 3588 \nQ 2734 3588 3117 3175 \nQ 3500 2763 3500 2003 \nL 3500 1684 \nz\nM 2928 2134 \nQ 2925 2597 2695 2850 \nQ 2466 3103 1997 3103 \nQ 1525 3103 1245 2825 \nQ 966 2547 928 2134 \nL 2928 2134 \nz\n\" transform=\"scale(0.015625)\"/>\n     </defs>\n     <use xlink:href=\"#Verdana-69\"/>\n     <use xlink:href=\"#Verdana-6e\" x=\"27.441406\"/>\n     <use xlink:href=\"#Verdana-70\" x=\"90.722656\"/>\n     <use xlink:href=\"#Verdana-75\" x=\"153.027344\"/>\n     <use xlink:href=\"#Verdana-74\" x=\"216.308594\"/>\n     <use xlink:href=\"#Verdana-20\" x=\"255.712891\"/>\n     <use xlink:href=\"#Verdana-76\" x=\"290.869141\"/>\n     <use xlink:href=\"#Verdana-73\" x=\"350.048828\"/>\n     <use xlink:href=\"#Verdana-2e\" x=\"402.148438\"/>\n     <use xlink:href=\"#Verdana-20\" x=\"438.525391\"/>\n     <use xlink:href=\"#Verdana-74\" x=\"473.681641\"/>\n     <use xlink:href=\"#Verdana-61\" x=\"513.085938\"/>\n     <use xlink:href=\"#Verdana-72\" x=\"573.144531\"/>\n     <use xlink:href=\"#Verdana-67\" x=\"615.820312\"/>\n     <use xlink:href=\"#Verdana-65\" x=\"678.125\"/>\n     <use xlink:href=\"#Verdana-74\" x=\"737.695312\"/>\n    </g>\n   </g>\n  </g>\n </g>\n <defs>\n  <clipPath id=\"p7309398abb\">\n   <rect x=\"51.427875\" y=\"26.2383\" width=\"669.6\" height=\"443.52\"/>\n  </clipPath>\n </defs>\n</svg>\n",
      "image/png": "[encoded data removed]"
     },
     "metadata": {}
    }
   ],
   "metadata": {}
  },
  {
   "cell_type": "code",
   "execution_count": 5,
   "source": [
    "# Get 60% of the dataset as the training set. Put the remaining 40% in temporary variables: x_ and y_.\n",
    "x_train, x_, y_train, y_ = train_test_split(x, y, test_size=0.40, random_state=1)\n",
    "\n",
    "# Split the 40% subset above into two: one half for cross validation and the other for the test set\n",
    "x_cv, x_test, y_cv, y_test = train_test_split(x_, y_, test_size=0.50, random_state=1)\n",
    "\n",
    "# Delete temporary variables\n",
    "del x_, y_\n",
    "\n",
    "print(f\"the shape of the training set (input) is: {x_train.shape}\")\n",
    "print(f\"the shape of the training set (target) is: {y_train.shape}\\n\")\n",
    "print(f\"the shape of the cross validation set (input) is: {x_cv.shape}\")\n",
    "print(f\"the shape of the cross validation set (target) is: {y_cv.shape}\\n\")\n",
    "print(f\"the shape of the test set (input) is: {x_test.shape}\")\n",
    "print(f\"the shape of the test set (target) is: {y_test.shape}\")"
   ],
   "outputs": [
    {
     "output_type": "stream",
     "name": "stdout",
     "text": [
      "the shape of the training set (input) is: (30, 1)\n",
      "the shape of the training set (target) is: (30, 1)\n",
      "\n",
      "the shape of the cross validation set (input) is: (10, 1)\n",
      "the shape of the cross validation set (target) is: (10, 1)\n",
      "\n",
      "the shape of the test set (input) is: (10, 1)\n",
      "the shape of the test set (target) is: (10, 1)\n"
     ]
    }
   ],
   "metadata": {}
  },
  {
   "cell_type": "markdown",
   "source": [
    "## feature scaling"
   ],
   "metadata": {}
  },
  {
   "cell_type": "code",
   "execution_count": 6,
   "source": [
    "# Initialize the class\n",
    "scaler_linear = StandardScaler()\n",
    "\n",
    "# Compute the mean and standard deviation of the training set then transform it\n",
    "X_train_scaled = scaler_linear.fit_transform(x_train)\n",
    "\n",
    "print(f\"Computed mean of the training set: {scaler_linear.mean_.squeeze():.2f}\")\n",
    "print(f\"Computed standard deviation of the training set: {scaler_linear.scale_.squeeze():.2f}\")\n",
    "\n",
    "\n",
    "\n",
    "# utils.plot_train_cv_test(x_train, y_train, x_cv, y_cv, x_test, y_test, title=\"input vs. target\")"
   ],
   "outputs": [
    {
     "output_type": "stream",
     "name": "stdout",
     "text": [
      "Computed mean of the training set: 2504.06\n",
      "Computed standard deviation of the training set: 574.85\n"
     ]
    }
   ],
   "metadata": {}
  },
  {
   "cell_type": "markdown",
   "source": [
    "## Train the model"
   ],
   "metadata": {}
  },
  {
   "cell_type": "code",
   "execution_count": 7,
   "source": [
    "# Initialize the class\n",
    "linear_model = LinearRegression()\n",
    "\n",
    "# Train the model\n",
    "linear_model.fit(X_train_scaled,y_train)"
   ],
   "outputs": [
    {
     "output_type": "execute_result",
     "data": {
      "text/plain": [
       "LinearRegression()"
      ],
      "text/html": [
       "<style>#sk-container-id-1 {color: black;background-color: white;}#sk-container-id-1 pre{padding: 0;}#sk-container-id-1 div.sk-toggleable {background-color: white;}#sk-container-id-1 label.sk-toggleable__label {cursor: pointer;display: block;width: 100%;margin-bottom: 0;padding: 0.3em;box-sizing: border-box;text-align: center;}#sk-container-id-1 label.sk-toggleable__label-arrow:before {content: \"▸\";float: left;margin-right: 0.25em;color: #696969;}#sk-container-id-1 label.sk-toggleable__label-arrow:hover:before {color: black;}#sk-container-id-1 div.sk-estimator:hover label.sk-toggleable__label-arrow:before {color: black;}#sk-container-id-1 div.sk-toggleable__content {max-height: 0;max-width: 0;overflow: hidden;text-align: left;background-color: #f0f8ff;}#sk-container-id-1 div.sk-toggleable__content pre {margin: 0.2em;color: black;border-radius: 0.25em;background-color: #f0f8ff;}#sk-container-id-1 input.sk-toggleable__control:checked~div.sk-toggleable__content {max-height: 200px;max-width: 100%;overflow: auto;}#sk-container-id-1 input.sk-toggleable__control:checked~label.sk-toggleable__label-arrow:before {content: \"▾\";}#sk-container-id-1 div.sk-estimator input.sk-toggleable__control:checked~label.sk-toggleable__label {background-color: #d4ebff;}#sk-container-id-1 div.sk-label input.sk-toggleable__control:checked~label.sk-toggleable__label {background-color: #d4ebff;}#sk-container-id-1 input.sk-hidden--visually {border: 0;clip: rect(1px 1px 1px 1px);clip: rect(1px, 1px, 1px, 1px);height: 1px;margin: -1px;overflow: hidden;padding: 0;position: absolute;width: 1px;}#sk-container-id-1 div.sk-estimator {font-family: monospace;background-color: #f0f8ff;border: 1px dotted black;border-radius: 0.25em;box-sizing: border-box;margin-bottom: 0.5em;}#sk-container-id-1 div.sk-estimator:hover {background-color: #d4ebff;}#sk-container-id-1 div.sk-parallel-item::after {content: \"\";width: 100%;border-bottom: 1px solid gray;flex-grow: 1;}#sk-container-id-1 div.sk-label:hover label.sk-toggleable__label {background-color: #d4ebff;}#sk-container-id-1 div.sk-serial::before {content: \"\";position: absolute;border-left: 1px solid gray;box-sizing: border-box;top: 0;bottom: 0;left: 50%;z-index: 0;}#sk-container-id-1 div.sk-serial {display: flex;flex-direction: column;align-items: center;background-color: white;padding-right: 0.2em;padding-left: 0.2em;position: relative;}#sk-container-id-1 div.sk-item {position: relative;z-index: 1;}#sk-container-id-1 div.sk-parallel {display: flex;align-items: stretch;justify-content: center;background-color: white;position: relative;}#sk-container-id-1 div.sk-item::before, #sk-container-id-1 div.sk-parallel-item::before {content: \"\";position: absolute;border-left: 1px solid gray;box-sizing: border-box;top: 0;bottom: 0;left: 50%;z-index: -1;}#sk-container-id-1 div.sk-parallel-item {display: flex;flex-direction: column;z-index: 1;position: relative;background-color: white;}#sk-container-id-1 div.sk-parallel-item:first-child::after {align-self: flex-end;width: 50%;}#sk-container-id-1 div.sk-parallel-item:last-child::after {align-self: flex-start;width: 50%;}#sk-container-id-1 div.sk-parallel-item:only-child::after {width: 0;}#sk-container-id-1 div.sk-dashed-wrapped {border: 1px dashed gray;margin: 0 0.4em 0.5em 0.4em;box-sizing: border-box;padding-bottom: 0.4em;background-color: white;}#sk-container-id-1 div.sk-label label {font-family: monospace;font-weight: bold;display: inline-block;line-height: 1.2em;}#sk-container-id-1 div.sk-label-container {text-align: center;}#sk-container-id-1 div.sk-container {/* jupyter's `normalize.less` sets `[hidden] { display: none; }` but bootstrap.min.css set `[hidden] { display: none !important; }` so we also need the `!important` here to be able to override the default hidden behavior on the sphinx rendered scikit-learn.org. See: https://github.com/scikit-learn/scikit-learn/issues/21755 */display: inline-block !important;position: relative;}#sk-container-id-1 div.sk-text-repr-fallback {display: none;}</style><div id=\"sk-container-id-1\" class=\"sk-top-container\"><div class=\"sk-text-repr-fallback\"><pre>LinearRegression()</pre><b>In a Jupyter environment, please rerun this cell to show the HTML representation or trust the notebook. <br />On GitHub, the HTML representation is unable to render, please try loading this page with nbviewer.org.</b></div><div class=\"sk-container\" hidden><div class=\"sk-item\"><div class=\"sk-estimator sk-toggleable\"><input class=\"sk-toggleable__control sk-hidden--visually\" id=\"sk-estimator-id-1\" type=\"checkbox\" checked><label for=\"sk-estimator-id-1\" class=\"sk-toggleable__label sk-toggleable__label-arrow\">LinearRegression</label><div class=\"sk-toggleable__content\"><pre>LinearRegression()</pre></div></div></div></div></div>"
      ]
     },
     "metadata": {},
     "execution_count": 7
    }
   ],
   "metadata": {}
  },
  {
   "cell_type": "markdown",
   "source": [
    "## Evaluate the model"
   ],
   "metadata": {}
  },
  {
   "cell_type": "code",
   "execution_count": 8,
   "source": [
    "# Feed the scaled training set and get the predictions\n",
    "yhat = linear_model.predict(X_train_scaled)\n",
    "\n",
    "# Use scikit-learn's utility function and divide by 2\n",
    "print(f\"training MSE (using sklearn function): {mean_squared_error(y_train, yhat) / 2}\")\n",
    "\n",
    "total_squared_error = 0.0\n",
    "\n",
    "for i in range(len(yhat)):\n",
    "    squared_error_i = (yhat[i] - y_train[i]) ** 2\n",
    "    total_squared_error += squared_error_i\n",
    "mse = total_squared_error/(2*len(yhat))\n",
    "\n",
    "print(f\"training MSE (for-loop implementation): {mse.squeeze()}\")"
   ],
   "outputs": [
    {
     "output_type": "stream",
     "name": "stdout",
     "text": [
      "training MSE (using sklearn function): 406.19374192533127\n",
      "training MSE (for-loop implementation): 406.19374192533127\n"
     ]
    }
   ],
   "metadata": {}
  },
  {
   "cell_type": "markdown",
   "source": [
    "You can then compute the MSE for the cross validation set with basically the same equation:\n",
    "\n",
    "$$J_{cv}(\\vec{w}, b) = \\frac{1}{2m_{cv}}\\left[\\sum_{i=1}^{m_{cv}}(f_{\\vec{w},b}(\\vec{x}_{cv}^{(i)}) - y_{cv}^{(i)})^2\\right]$$\n",
    "\n",
    "As with the training set, you will also want to scale the cross validation set. An *important* thing to note when using the z-score is you have to use the mean and standard deviation of the **training set** when scaling the cross validation set. This is to ensure that your input features are transformed as expected by the model. One way to gain intuition is with this scenario:\n",
    "\n",
    "* Say that your training set has an input feature equal to `500` which is scaled down to `0.5` using the z-score.\n",
    "* After training, your model is able to accurately map this scaled input `x=0.5` to the target output `y=300`. \n",
    "* Now let's say that you deployed this model and one of your users fed it a sample equal to `500`. \n",
    "* If you get this input sample's z-score using any other values of the mean and standard deviation, then it might not be scaled to `0.5` and your model will most likely make a wrong prediction (i.e. not equal to `y=300`). \n",
    "\n",
    "You will scale the cross validation set below by using the same `StandardScaler` you used earlier but only calling its [`transform()`](https://scikit-learn.org/stable/modules/generated/sklearn.preprocessing.StandardScaler.html#sklearn.preprocessing.StandardScaler.transform) method instead of [`fit_transform()`](https://scikit-learn.org/stable/modules/generated/sklearn.preprocessing.StandardScaler.html#sklearn.preprocessing.StandardScaler.fit_transform)."
   ],
   "metadata": {}
  },
  {
   "cell_type": "code",
   "execution_count": 9,
   "source": [
    "x_cv_scaled = scaler_linear.transform(x_cv)\n",
    "\n",
    "print(f\"Mean used to scale the CV set: {scaler_linear.mean_.squeeze():.2f}\")\n",
    "print(f\"Standard deviation used to scale the CV set: {scaler_linear.scale_.squeeze():.2f}\") # notice it's the same mean and standard deviation that is used in the training data\n",
    "\n",
    "yhat = linear_model.predict(x_cv_scaled)\n",
    "\n",
    "# Use scikit-learn's utility function and divide by 2\n",
    "print(f\"Cross validation MSE: {mean_squared_error(y_cv, yhat) / 2}\")\n"
   ],
   "outputs": [
    {
     "output_type": "stream",
     "name": "stdout",
     "text": [
      "Mean used to scale the CV set: 2504.06\n",
      "Standard deviation used to scale the CV set: 574.85\n",
      "Cross validation MSE: 551.7789026952216\n"
     ]
    }
   ],
   "metadata": {}
  },
  {
   "cell_type": "markdown",
   "source": [
    "## Adding polynomial features"
   ],
   "metadata": {}
  },
  {
   "cell_type": "code",
   "execution_count": 10,
   "source": [
    "# It will create a new input feature which has the squared values of the input x (i.e. degree=2).\n",
    "# Instantiate the class to make polynomial features\n",
    "poly = PolynomialFeatures(degree=2,include_bias=False)\n",
    "\n",
    "# Compute the number of features and transform the training set\n",
    "X_train_mapped = poly.fit_transform(x_train)\n",
    "\n",
    "# Preview the first 5 elements of the new training set. Left column is `x` and right column is `x^2`\n",
    "# Note: The `e+<number>` in the output denotes how many places the decimal point should \n",
    "# be moved. For example, `3.24e+03` is equal to `3240`\n",
    "print(X_train_mapped[:5])"
   ],
   "outputs": [
    {
     "output_type": "stream",
     "name": "stdout",
     "text": [
      "[[3.32e+03 1.11e+07]\n",
      " [2.34e+03 5.50e+06]\n",
      " [3.49e+03 1.22e+07]\n",
      " [2.63e+03 6.92e+06]\n",
      " [2.59e+03 6.71e+06]]\n"
     ]
    }
   ],
   "metadata": {}
  },
  {
   "cell_type": "markdown",
   "source": [
    "You will then scale the inputs as before to narrow down the range of values."
   ],
   "metadata": {}
  },
  {
   "cell_type": "code",
   "execution_count": 11,
   "source": [
    "# Instantiate the class\n",
    "scaler_poly = StandardScaler()\n",
    "\n",
    "# Compute the mean and standard deviation of the training set then transform it\n",
    "X_train_mapped_scaled = scaler_poly.fit_transform(X_train_mapped)\n",
    "\n",
    "# Preview the first 5 elements of the scaled training set.\n",
    "print(X_train_mapped_scaled[:5])"
   ],
   "outputs": [
    {
     "output_type": "stream",
     "name": "stdout",
     "text": [
      "[[ 1.43  1.47]\n",
      " [-0.28 -0.36]\n",
      " [ 1.71  1.84]\n",
      " [ 0.22  0.11]\n",
      " [ 0.15  0.04]]\n"
     ]
    }
   ],
   "metadata": {}
  },
  {
   "cell_type": "markdown",
   "source": [
    "You can then proceed to train the model. After that, you will measure the model's performance against the cross validation set. Like before, you should make sure to perform the same transformations as you did in the training set. You will add the same number of polynomial features then scale the range of values.\n"
   ],
   "metadata": {}
  },
  {
   "cell_type": "code",
   "execution_count": 12,
   "source": [
    "# Initialize the class\n",
    "model = LinearRegression()\n",
    "\n",
    "# Train the model\n",
    "model.fit(X_train_mapped_scaled,y_train)\n",
    "\n",
    "# Compute the training MSE\n",
    "yhat = model.predict(X_train_mapped_scaled)\n",
    "print(f\"Training MSE: {mean_squared_error(y_train, yhat) / 2}\")\n",
    "\n",
    "# Add the polynomial features to the cross validation set\n",
    "x_cv_mapped = poly.fit_transform(x_cv)\n",
    "\n",
    "# Scale the cross validation set using the mean and standard deviation of the training set\n",
    "x_cv_mapped_scaled = scaler_poly.transform(x_cv_mapped)\n",
    "\n",
    "# Compute the cross validation MSE\n",
    "yhat = model.predict(x_cv_mapped_scaled)\n",
    "print(f\"CrossValidation MSE: {mean_squared_error(y_cv,yhat)/2}\")\n",
    "\n"
   ],
   "outputs": [
    {
     "output_type": "stream",
     "name": "stdout",
     "text": [
      "Training MSE: 49.11160933402521\n",
      "CrossValidation MSE: 87.69841211111913\n"
     ]
    }
   ],
   "metadata": {}
  },
  {
   "cell_type": "code",
   "execution_count": 13,
   "source": [
    "degrees=range(1,11)\n",
    "print(degrees)"
   ],
   "outputs": [
    {
     "output_type": "stream",
     "name": "stdout",
     "text": [
      "range(1, 11)\n"
     ]
    }
   ],
   "metadata": {}
  },
  {
   "cell_type": "markdown",
   "source": [
    "You'll notice that the MSEs are significantly better for both the training and cross validation set when you added the 2nd order polynomial. You may want to introduce more polynomial terms and see which one gives the best performance. As shown in class, you can have 10 different models like this:\n",
    "\n",
    "\n",
    "You can create a loop that contains all the steps in the previous code cells. Here is one implementation that adds polynomial features up to degree=10. We'll plot it at the end to make it easier to compare the results for each model."
   ],
   "metadata": {}
  },
  {
   "cell_type": "code",
   "execution_count": 14,
   "source": [
    "# Initialize lists containing the lists, models, and scalers\n",
    "train_mses = []\n",
    "cv_mses = []\n",
    "models = []\n",
    "scalers = []\n",
    "\n",
    "# Loop over 10 times. Each adding one more degree of polynomial higher than the last.\n",
    "for degree in range(1,11):\n",
    "    \n",
    "    # Add polynomial features to the training set\n",
    "    poly = PolynomialFeatures(degree, include_bias=False)\n",
    "    X_train_mapped = poly.fit_transform(x_train)\n",
    "    \n",
    "    # Scale the training set\n",
    "    scaler_poly = StandardScaler()\n",
    "    X_train_mapped_scaled = scaler_poly.fit_transform(X_train_mapped)\n",
    "    scalers.append(scaler_poly)\n",
    "    \n",
    "    # Create and train the model\n",
    "    model = LinearRegression()\n",
    "    model.fit(X_train_mapped_scaled, y_train )\n",
    "    models.append(model)\n",
    "    \n",
    "    # Compute the training MSE\n",
    "    yhat = model.predict(X_train_mapped_scaled)\n",
    "    train_mse = mean_squared_error(y_train, yhat) / 2\n",
    "    train_mses.append(train_mse)\n",
    "    \n",
    "    # Add polynomial features and scale the cross validation set\n",
    "    poly = PolynomialFeatures(degree, include_bias=False)\n",
    "    X_cv_mapped = poly.fit_transform(x_cv)\n",
    "    X_cv_mapped_scaled = scaler_poly.transform(X_cv_mapped)\n",
    "    \n",
    "    # Compute the cross validation MSE\n",
    "    yhat = model.predict(X_cv_mapped_scaled)\n",
    "    cv_mse = mean_squared_error(y_cv, yhat) / 2\n",
    "    cv_mses.append(cv_mse)\n",
    "    \n",
    "# Plot the results\n",
    "degrees=range(1,11)\n",
    "utils.plot_train_cv_mses(degrees, train_mses, cv_mses, title=\"degree of polynomial vs. train and CV MSEs\")"
   ],
   "outputs": [
    {
     "output_type": "display_data",
     "data": {
      "text/plain": [
       "<Figure size 1200x800 with 1 Axes>"
      ],
      "image/svg+xml": "<?xml version=\"1.0\" encoding=\"utf-8\" standalone=\"no\"?>\n<!DOCTYPE svg PUBLIC \"-//W3C//DTD SVG 1.1//EN\"\n  \"http://www.w3.org/Graphics/SVG/1.1/DTD/svg11.dtd\">\n<svg xmlns:xlink=\"http://www.w3.org/1999/xlink\" width=\"728.227875pt\" height=\"510.083175pt\" viewBox=\"0 0 728.227875 510.083175\" xmlns=\"http://www.w3.org/2000/svg\" version=\"1.1\">\n <metadata>\n  <rdf:RDF xmlns:dc=\"http://purl.org/dc/elements/1.1/\" xmlns:cc=\"http://creativecommons.org/ns#\" xmlns:rdf=\"http://www.w3.org/1999/02/22-rdf-syntax-ns#\">\n   <cc:Work>\n    <dc:type rdf:resource=\"http://purl.org/dc/dcmitype/StillImage\"/>\n    <dc:date>2023-03-24T13:03:12.353896</dc:date>\n    <dc:format>image/svg+xml</dc:format>\n    <dc:creator>\n     <cc:Agent>\n      <dc:title>Matplotlib v3.7.1, https://matplotlib.org/</dc:title>\n     </cc:Agent>\n    </dc:creator>\n   </cc:Work>\n  </rdf:RDF>\n </metadata>\n <defs>\n  <style type=\"text/css\">*{stroke-linejoin: round; stroke-linecap: butt}</style>\n </defs>\n <g id=\"figure_1\">\n  <g id=\"patch_1\">\n   <path d=\"M 0 510.083175 \nL 728.227875 510.083175 \nL 728.227875 0 \nL 0 0 \nz\n\" style=\"fill: #ffffff\"/>\n  </g>\n  <g id=\"axes_1\">\n   <g id=\"patch_2\">\n    <path d=\"M 51.427875 469.9338 \nL 721.027875 469.9338 \nL 721.027875 26.4138 \nL 51.427875 26.4138 \nz\n\" style=\"fill: #ffffff\"/>\n   </g>\n   <g id=\"matplotlib.axis_1\">\n    <g id=\"xtick_1\">\n     <g id=\"line2d_1\"/>\n     <g id=\"text_1\">\n      <!-- 2 -->\n      <g transform=\"translate(145.685915 482.551925) scale(0.12 -0.12)\">\n       <defs>\n        <path id=\"Verdana-32\" d=\"M 3653 0 \nL 503 0 \nL 503 653 \nQ 831 934 1161 1215 \nQ 1491 1497 1775 1775 \nQ 2375 2356 2597 2698 \nQ 2819 3041 2819 3438 \nQ 2819 3800 2580 4004 \nQ 2341 4209 1913 4209 \nQ 1628 4209 1297 4109 \nQ 966 4009 650 3803 \nL 619 3803 \nL 619 4459 \nQ 841 4569 1211 4659 \nQ 1581 4750 1928 4750 \nQ 2644 4750 3050 4404 \nQ 3456 4059 3456 3469 \nQ 3456 3203 3389 2973 \nQ 3322 2744 3191 2538 \nQ 3069 2344 2905 2156 \nQ 2741 1969 2506 1741 \nQ 2172 1413 1815 1105 \nQ 1459 797 1150 534 \nL 3653 534 \nL 3653 0 \nz\n\" transform=\"scale(0.015625)\"/>\n       </defs>\n       <use xlink:href=\"#Verdana-32\"/>\n      </g>\n     </g>\n    </g>\n    <g id=\"xtick_2\">\n     <g id=\"line2d_2\"/>\n     <g id=\"text_2\">\n      <!-- 4 -->\n      <g transform=\"translate(280.958642 482.551925) scale(0.12 -0.12)\">\n       <defs>\n        <path id=\"Verdana-34\" d=\"M 3759 1309 \nL 3069 1309 \nL 3069 0 \nL 2469 0 \nL 2469 1309 \nL 241 1309 \nL 241 2028 \nL 2494 4653 \nL 3069 4653 \nL 3069 1809 \nL 3759 1809 \nL 3759 1309 \nz\nM 2469 1809 \nL 2469 3909 \nL 666 1809 \nL 2469 1809 \nz\n\" transform=\"scale(0.015625)\"/>\n       </defs>\n       <use xlink:href=\"#Verdana-34\"/>\n      </g>\n     </g>\n    </g>\n    <g id=\"xtick_3\">\n     <g id=\"line2d_3\"/>\n     <g id=\"text_3\">\n      <!-- 6 -->\n      <g transform=\"translate(416.231369 482.551925) scale(0.12 -0.12)\">\n       <defs>\n        <path id=\"Verdana-36\" d=\"M 3722 1509 \nQ 3722 800 3255 351 \nQ 2788 -97 2109 -97 \nQ 1766 -97 1484 9 \nQ 1203 116 988 325 \nQ 719 584 573 1012 \nQ 428 1441 428 2044 \nQ 428 2663 561 3141 \nQ 694 3619 984 3991 \nQ 1259 4344 1693 4542 \nQ 2128 4741 2706 4741 \nQ 2891 4741 3016 4725 \nQ 3141 4709 3269 4669 \nL 3269 4072 \nL 3238 4072 \nQ 3150 4119 2973 4161 \nQ 2797 4203 2613 4203 \nQ 1941 4203 1541 3783 \nQ 1141 3363 1075 2647 \nQ 1338 2806 1592 2889 \nQ 1847 2972 2181 2972 \nQ 2478 2972 2704 2917 \nQ 2931 2863 3169 2697 \nQ 3444 2506 3583 2215 \nQ 3722 1925 3722 1509 \nz\nM 3088 1484 \nQ 3088 1775 3002 1965 \nQ 2916 2156 2719 2297 \nQ 2575 2397 2400 2428 \nQ 2225 2459 2034 2459 \nQ 1769 2459 1541 2396 \nQ 1313 2334 1072 2203 \nQ 1066 2134 1062 2070 \nQ 1059 2006 1059 1909 \nQ 1059 1416 1161 1130 \nQ 1263 844 1441 678 \nQ 1584 541 1751 477 \nQ 1919 413 2116 413 \nQ 2569 413 2828 689 \nQ 3088 966 3088 1484 \nz\n\" transform=\"scale(0.015625)\"/>\n       </defs>\n       <use xlink:href=\"#Verdana-36\"/>\n      </g>\n     </g>\n    </g>\n    <g id=\"xtick_4\">\n     <g id=\"line2d_4\"/>\n     <g id=\"text_4\">\n      <!-- 8 -->\n      <g transform=\"translate(551.504097 482.551925) scale(0.12 -0.12)\">\n       <defs>\n        <path id=\"Verdana-38\" d=\"M 3688 1297 \nQ 3688 694 3217 294 \nQ 2747 -106 2034 -106 \nQ 1278 -106 829 284 \nQ 381 675 381 1284 \nQ 381 1672 606 1986 \nQ 831 2300 1241 2484 \nL 1241 2503 \nQ 866 2703 686 2940 \nQ 506 3178 506 3534 \nQ 506 4059 937 4409 \nQ 1369 4759 2034 4759 \nQ 2731 4759 3147 4425 \nQ 3563 4091 3563 3575 \nQ 3563 3259 3366 2954 \nQ 3169 2650 2788 2478 \nL 2788 2459 \nQ 3225 2272 3456 1997 \nQ 3688 1722 3688 1297 \nz\nM 2947 3569 \nQ 2947 3903 2689 4101 \nQ 2431 4300 2031 4300 \nQ 1638 4300 1386 4112 \nQ 1134 3925 1134 3606 \nQ 1134 3381 1261 3217 \nQ 1388 3053 1644 2925 \nQ 1759 2869 1976 2778 \nQ 2194 2688 2400 2628 \nQ 2709 2834 2828 3056 \nQ 2947 3278 2947 3569 \nz\nM 3044 1238 \nQ 3044 1525 2917 1698 \nQ 2791 1872 2422 2047 \nQ 2275 2116 2100 2175 \nQ 1925 2234 1634 2341 \nQ 1353 2188 1183 1925 \nQ 1013 1663 1013 1331 \nQ 1013 909 1303 634 \nQ 1594 359 2041 359 \nQ 2497 359 2770 593 \nQ 3044 828 3044 1238 \nz\n\" transform=\"scale(0.015625)\"/>\n       </defs>\n       <use xlink:href=\"#Verdana-38\"/>\n      </g>\n     </g>\n    </g>\n    <g id=\"xtick_5\">\n     <g id=\"line2d_5\"/>\n     <g id=\"text_5\">\n      <!-- 10 -->\n      <g transform=\"translate(682.962136 482.551925) scale(0.12 -0.12)\">\n       <defs>\n        <path id=\"Verdana-31\" d=\"M 3388 0 \nL 869 0 \nL 869 475 \nL 1838 475 \nL 1838 3594 \nL 869 3594 \nL 869 4019 \nQ 1066 4019 1291 4051 \nQ 1516 4084 1631 4147 \nQ 1775 4225 1858 4345 \nQ 1941 4466 1953 4669 \nL 2438 4669 \nL 2438 475 \nL 3388 475 \nL 3388 0 \nz\n\" transform=\"scale(0.015625)\"/>\n        <path id=\"Verdana-30\" d=\"M 3647 2328 \nQ 3647 1075 3255 489 \nQ 2863 -97 2038 -97 \nQ 1200 -97 814 497 \nQ 428 1091 428 2322 \nQ 428 3563 818 4155 \nQ 1209 4747 2038 4747 \nQ 2875 4747 3261 4145 \nQ 3647 3544 3647 2328 \nz\nM 2825 909 \nQ 2934 1163 2973 1505 \nQ 3013 1847 3013 2328 \nQ 3013 2803 2973 3153 \nQ 2934 3503 2822 3747 \nQ 2713 3988 2523 4109 \nQ 2334 4231 2038 4231 \nQ 1744 4231 1551 4109 \nQ 1359 3988 1247 3741 \nQ 1141 3509 1102 3137 \nQ 1063 2766 1063 2322 \nQ 1063 1834 1097 1506 \nQ 1131 1178 1244 919 \nQ 1347 675 1536 547 \nQ 1725 419 2038 419 \nQ 2331 419 2525 541 \nQ 2719 663 2825 909 \nz\n\" transform=\"scale(0.015625)\"/>\n       </defs>\n       <use xlink:href=\"#Verdana-31\"/>\n       <use xlink:href=\"#Verdana-30\" x=\"63.574219\"/>\n      </g>\n     </g>\n    </g>\n    <g id=\"text_6\">\n     <!-- degree -->\n     <g transform=\"translate(361.313625 499.908675) scale(0.144 -0.144)\">\n      <defs>\n       <path id=\"Verdana-64\" d=\"M 3409 0 \nL 2822 0 \nL 2822 366 \nQ 2569 147 2294 25 \nQ 2019 -97 1697 -97 \nQ 1072 -97 705 384 \nQ 338 866 338 1719 \nQ 338 2163 464 2509 \nQ 591 2856 806 3100 \nQ 1019 3338 1301 3463 \nQ 1584 3588 1888 3588 \nQ 2163 3588 2375 3530 \nQ 2588 3472 2822 3350 \nL 2822 4863 \nL 3409 4863 \nL 3409 0 \nz\nM 2822 859 \nL 2822 2863 \nQ 2584 2969 2396 3009 \nQ 2209 3050 1988 3050 \nQ 1494 3050 1219 2706 \nQ 944 2363 944 1731 \nQ 944 1109 1156 786 \nQ 1369 463 1838 463 \nQ 2088 463 2344 573 \nQ 2600 684 2822 859 \nz\n\" transform=\"scale(0.015625)\"/>\n       <path id=\"Verdana-65\" d=\"M 3500 1684 \nL 928 1684 \nQ 928 1363 1025 1123 \nQ 1122 884 1291 731 \nQ 1453 581 1676 506 \nQ 1900 431 2169 431 \nQ 2525 431 2886 573 \nQ 3247 716 3400 853 \nL 3431 853 \nL 3431 213 \nQ 3134 88 2825 3 \nQ 2516 -81 2175 -81 \nQ 1306 -81 818 389 \nQ 331 859 331 1725 \nQ 331 2581 798 3084 \nQ 1266 3588 2028 3588 \nQ 2734 3588 3117 3175 \nQ 3500 2763 3500 2003 \nL 3500 1684 \nz\nM 2928 2134 \nQ 2925 2597 2695 2850 \nQ 2466 3103 1997 3103 \nQ 1525 3103 1245 2825 \nQ 966 2547 928 2134 \nL 2928 2134 \nz\n\" transform=\"scale(0.015625)\"/>\n       <path id=\"Verdana-67\" d=\"M 3409 397 \nQ 3409 -491 3006 -906 \nQ 2603 -1322 1766 -1322 \nQ 1488 -1322 1223 -1283 \nQ 959 -1244 703 -1172 \nL 703 -572 \nL 734 -572 \nQ 878 -628 1190 -711 \nQ 1503 -794 1816 -794 \nQ 2116 -794 2312 -722 \nQ 2509 -650 2619 -522 \nQ 2728 -400 2775 -228 \nQ 2822 -56 2822 156 \nL 2822 475 \nQ 2556 263 2314 158 \nQ 2072 53 1697 53 \nQ 1072 53 705 504 \nQ 338 956 338 1778 \nQ 338 2228 464 2554 \nQ 591 2881 809 3119 \nQ 1013 3341 1303 3464 \nQ 1594 3588 1881 3588 \nQ 2184 3588 2389 3527 \nQ 2594 3466 2822 3341 \nL 2859 3491 \nL 3409 3491 \nL 3409 397 \nz\nM 2822 959 \nL 2822 2863 \nQ 2588 2969 2386 3014 \nQ 2184 3059 1984 3059 \nQ 1500 3059 1222 2734 \nQ 944 2409 944 1791 \nQ 944 1203 1150 900 \nQ 1356 597 1834 597 \nQ 2091 597 2348 695 \nQ 2606 794 2822 959 \nz\n\" transform=\"scale(0.015625)\"/>\n       <path id=\"Verdana-72\" d=\"M 2756 2850 \nL 2725 2850 \nQ 2594 2881 2470 2895 \nQ 2347 2909 2178 2909 \nQ 1906 2909 1653 2789 \nQ 1400 2669 1166 2478 \nL 1166 0 \nL 578 0 \nL 578 3491 \nL 1166 3491 \nL 1166 2975 \nQ 1516 3256 1783 3373 \nQ 2050 3491 2328 3491 \nQ 2481 3491 2550 3483 \nQ 2619 3475 2756 3453 \nL 2756 2850 \nz\n\" transform=\"scale(0.015625)\"/>\n      </defs>\n      <use xlink:href=\"#Verdana-64\"/>\n      <use xlink:href=\"#Verdana-65\" x=\"62.304688\"/>\n      <use xlink:href=\"#Verdana-67\" x=\"121.875\"/>\n      <use xlink:href=\"#Verdana-72\" x=\"184.179688\"/>\n      <use xlink:href=\"#Verdana-65\" x=\"226.855469\"/>\n      <use xlink:href=\"#Verdana-65\" x=\"286.425781\"/>\n     </g>\n    </g>\n   </g>\n   <g id=\"matplotlib.axis_2\">\n    <g id=\"ytick_1\">\n     <g id=\"line2d_6\"/>\n     <g id=\"text_7\">\n      <!-- 100 -->\n      <g transform=\"translate(25.03975 405.013252) scale(0.12 -0.12)\">\n       <use xlink:href=\"#Verdana-31\"/>\n       <use xlink:href=\"#Verdana-30\" x=\"63.574219\"/>\n       <use xlink:href=\"#Verdana-30\" x=\"127.148438\"/>\n      </g>\n     </g>\n    </g>\n    <g id=\"ytick_2\">\n     <g id=\"line2d_7\"/>\n     <g id=\"text_8\">\n      <!-- 200 -->\n      <g transform=\"translate(25.03975 326.682815) scale(0.12 -0.12)\">\n       <use xlink:href=\"#Verdana-32\"/>\n       <use xlink:href=\"#Verdana-30\" x=\"63.574219\"/>\n       <use xlink:href=\"#Verdana-30\" x=\"127.148438\"/>\n      </g>\n     </g>\n    </g>\n    <g id=\"ytick_3\">\n     <g id=\"line2d_8\"/>\n     <g id=\"text_9\">\n      <!-- 300 -->\n      <g transform=\"translate(25.03975 248.352377) scale(0.12 -0.12)\">\n       <defs>\n        <path id=\"Verdana-33\" d=\"M 3244 2241 \nQ 3394 2106 3491 1903 \nQ 3588 1700 3588 1378 \nQ 3588 1059 3472 793 \nQ 3356 528 3147 331 \nQ 2913 113 2595 8 \nQ 2278 -97 1900 -97 \nQ 1513 -97 1138 -4 \nQ 763 88 522 197 \nL 522 850 \nL 569 850 \nQ 834 675 1193 559 \nQ 1553 444 1888 444 \nQ 2084 444 2306 509 \nQ 2528 575 2666 703 \nQ 2809 841 2879 1006 \nQ 2950 1172 2950 1425 \nQ 2950 1675 2870 1839 \nQ 2791 2003 2650 2097 \nQ 2509 2194 2309 2230 \nQ 2109 2266 1878 2266 \nL 1597 2266 \nL 1597 2784 \nL 1816 2784 \nQ 2291 2784 2573 2982 \nQ 2856 3181 2856 3563 \nQ 2856 3731 2784 3857 \nQ 2713 3984 2584 4066 \nQ 2450 4147 2297 4178 \nQ 2144 4209 1950 4209 \nQ 1653 4209 1318 4103 \nQ 984 3997 688 3803 \nL 656 3803 \nL 656 4456 \nQ 878 4566 1248 4658 \nQ 1619 4750 1966 4750 \nQ 2306 4750 2565 4687 \nQ 2825 4625 3034 4488 \nQ 3259 4338 3375 4125 \nQ 3491 3913 3491 3628 \nQ 3491 3241 3217 2952 \nQ 2944 2663 2572 2588 \nL 2572 2544 \nQ 2722 2519 2915 2439 \nQ 3109 2359 3244 2241 \nz\n\" transform=\"scale(0.015625)\"/>\n       </defs>\n       <use xlink:href=\"#Verdana-33\"/>\n       <use xlink:href=\"#Verdana-30\" x=\"63.574219\"/>\n       <use xlink:href=\"#Verdana-30\" x=\"127.148438\"/>\n      </g>\n     </g>\n    </g>\n    <g id=\"ytick_4\">\n     <g id=\"line2d_9\"/>\n     <g id=\"text_10\">\n      <!-- 400 -->\n      <g transform=\"translate(25.03975 170.02194) scale(0.12 -0.12)\">\n       <use xlink:href=\"#Verdana-34\"/>\n       <use xlink:href=\"#Verdana-30\" x=\"63.574219\"/>\n       <use xlink:href=\"#Verdana-30\" x=\"127.148438\"/>\n      </g>\n     </g>\n    </g>\n    <g id=\"ytick_5\">\n     <g id=\"line2d_10\"/>\n     <g id=\"text_11\">\n      <!-- 500 -->\n      <g transform=\"translate(25.03975 91.691503) scale(0.12 -0.12)\">\n       <defs>\n        <path id=\"Verdana-35\" d=\"M 3616 1478 \nQ 3616 1153 3497 856 \nQ 3378 559 3172 356 \nQ 2947 138 2636 20 \nQ 2325 -97 1916 -97 \nQ 1534 -97 1181 -17 \nQ 828 63 584 175 \nL 584 834 \nL 628 834 \nQ 884 672 1228 558 \nQ 1572 444 1903 444 \nQ 2125 444 2333 506 \nQ 2541 569 2703 725 \nQ 2841 859 2911 1046 \nQ 2981 1234 2981 1481 \nQ 2981 1722 2898 1887 \nQ 2816 2053 2669 2153 \nQ 2506 2272 2273 2320 \nQ 2041 2369 1753 2369 \nQ 1478 2369 1223 2331 \nQ 969 2294 784 2256 \nL 784 4653 \nL 3584 4653 \nL 3584 4106 \nL 1388 4106 \nL 1388 2869 \nQ 1522 2881 1662 2887 \nQ 1803 2894 1906 2894 \nQ 2284 2894 2568 2830 \nQ 2853 2766 3091 2603 \nQ 3341 2431 3478 2159 \nQ 3616 1888 3616 1478 \nz\n\" transform=\"scale(0.015625)\"/>\n       </defs>\n       <use xlink:href=\"#Verdana-35\"/>\n       <use xlink:href=\"#Verdana-30\" x=\"63.574219\"/>\n       <use xlink:href=\"#Verdana-30\" x=\"127.148438\"/>\n      </g>\n     </g>\n    </g>\n    <g id=\"text_12\">\n     <!-- MSE -->\n     <g transform=\"translate(18.14175 263.7168) rotate(-90) scale(0.144 -0.144)\">\n      <defs>\n       <path id=\"Verdana-4d\" d=\"M 4769 0 \nL 4150 0 \nL 4150 4009 \nL 2856 1281 \nL 2488 1281 \nL 1203 4009 \nL 1203 0 \nL 625 0 \nL 625 4653 \nL 1469 4653 \nL 2709 2063 \nL 3909 4653 \nL 4769 4653 \nL 4769 0 \nz\n\" transform=\"scale(0.015625)\"/>\n       <path id=\"Verdana-53\" d=\"M 4006 1328 \nQ 4006 1056 3879 790 \nQ 3753 525 3525 341 \nQ 3275 141 2942 28 \nQ 2609 -84 2141 -84 \nQ 1638 -84 1236 9 \nQ 834 103 419 288 \nL 419 1063 \nL 463 1063 \nQ 816 769 1278 609 \nQ 1741 450 2147 450 \nQ 2722 450 3042 665 \nQ 3363 881 3363 1241 \nQ 3363 1550 3211 1697 \nQ 3059 1844 2750 1925 \nQ 2516 1988 2242 2028 \nQ 1969 2069 1663 2131 \nQ 1044 2263 745 2580 \nQ 447 2897 447 3406 \nQ 447 3991 940 4364 \nQ 1434 4738 2194 4738 \nQ 2684 4738 3093 4644 \nQ 3503 4550 3819 4413 \nL 3819 3681 \nL 3775 3681 \nQ 3509 3906 3076 4054 \nQ 2644 4203 2191 4203 \nQ 1694 4203 1392 3997 \nQ 1091 3791 1091 3466 \nQ 1091 3175 1241 3009 \nQ 1391 2844 1769 2756 \nQ 1969 2713 2337 2650 \nQ 2706 2588 2963 2522 \nQ 3481 2384 3743 2106 \nQ 4006 1828 4006 1328 \nz\n\" transform=\"scale(0.015625)\"/>\n       <path id=\"Verdana-45\" d=\"M 3691 0 \nL 625 0 \nL 625 4653 \nL 3691 4653 \nL 3691 4103 \nL 1244 4103 \nL 1244 2828 \nL 3691 2828 \nL 3691 2278 \nL 1244 2278 \nL 1244 550 \nL 3691 550 \nL 3691 0 \nz\n\" transform=\"scale(0.015625)\"/>\n      </defs>\n      <use xlink:href=\"#Verdana-4d\"/>\n      <use xlink:href=\"#Verdana-53\" x=\"84.277344\"/>\n      <use xlink:href=\"#Verdana-45\" x=\"152.636719\"/>\n     </g>\n    </g>\n   </g>\n   <g id=\"line2d_11\">\n    <path d=\"M 81.864239 160.611293 \nL 149.500602 440.315288 \nL 217.136966 441.486553 \nL 284.77333 441.854593 \nL 352.409693 441.857641 \nL 420.046057 446.368454 \nL 487.68242 448.040235 \nL 555.318784 448.250354 \nL 622.955148 449.041221 \nL 690.591511 449.7738 \n\" clip-path=\"url(#pd9351aa55b)\" style=\"fill: none; stroke: #ff0000; stroke-width: 4\"/>\n    <defs>\n     <path id=\"m8e1b56b658\" d=\"M 0 6 \nC 1.591219 6 3.117479 5.367802 4.242641 4.242641 \nC 5.367802 3.117479 6 1.591219 6 0 \nC 6 -1.591219 5.367802 -3.117479 4.242641 -4.242641 \nC 3.117479 -5.367802 1.591219 -6 0 -6 \nC -1.591219 -6 -3.117479 -5.367802 -4.242641 -4.242641 \nC -5.367802 -3.117479 -6 -1.591219 -6 0 \nC -6 1.591219 -5.367802 3.117479 -4.242641 4.242641 \nC -3.117479 5.367802 -1.591219 6 0 6 \nz\n\" style=\"stroke: #ff0000\"/>\n    </defs>\n    <g clip-path=\"url(#pd9351aa55b)\">\n     <use xlink:href=\"#m8e1b56b658\" x=\"81.864239\" y=\"160.611293\" style=\"fill: #ff0000; stroke: #ff0000\"/>\n     <use xlink:href=\"#m8e1b56b658\" x=\"149.500602\" y=\"440.315288\" style=\"fill: #ff0000; stroke: #ff0000\"/>\n     <use xlink:href=\"#m8e1b56b658\" x=\"217.136966\" y=\"441.486553\" style=\"fill: #ff0000; stroke: #ff0000\"/>\n     <use xlink:href=\"#m8e1b56b658\" x=\"284.77333\" y=\"441.854593\" style=\"fill: #ff0000; stroke: #ff0000\"/>\n     <use xlink:href=\"#m8e1b56b658\" x=\"352.409693\" y=\"441.857641\" style=\"fill: #ff0000; stroke: #ff0000\"/>\n     <use xlink:href=\"#m8e1b56b658\" x=\"420.046057\" y=\"446.368454\" style=\"fill: #ff0000; stroke: #ff0000\"/>\n     <use xlink:href=\"#m8e1b56b658\" x=\"487.68242\" y=\"448.040235\" style=\"fill: #ff0000; stroke: #ff0000\"/>\n     <use xlink:href=\"#m8e1b56b658\" x=\"555.318784\" y=\"448.250354\" style=\"fill: #ff0000; stroke: #ff0000\"/>\n     <use xlink:href=\"#m8e1b56b658\" x=\"622.955148\" y=\"449.041221\" style=\"fill: #ff0000; stroke: #ff0000\"/>\n     <use xlink:href=\"#m8e1b56b658\" x=\"690.591511\" y=\"449.7738\" style=\"fill: #ff0000; stroke: #ff0000\"/>\n    </g>\n   </g>\n   <g id=\"line2d_12\">\n    <path d=\"M 81.864239 46.5738 \nL 149.500602 410.090077 \nL 217.136966 415.218788 \nL 284.77333 416.565703 \nL 352.409693 416.443891 \nL 420.046057 401.439381 \nL 487.68242 400.98413 \nL 555.318784 401.199538 \nL 622.955148 392.942669 \nL 690.591511 383.338429 \n\" clip-path=\"url(#pd9351aa55b)\" style=\"fill: none; stroke: #0000ff; stroke-width: 4\"/>\n    <defs>\n     <path id=\"mf1b59454d2\" d=\"M 0 6 \nC 1.591219 6 3.117479 5.367802 4.242641 4.242641 \nC 5.367802 3.117479 6 1.591219 6 0 \nC 6 -1.591219 5.367802 -3.117479 4.242641 -4.242641 \nC 3.117479 -5.367802 1.591219 -6 0 -6 \nC -1.591219 -6 -3.117479 -5.367802 -4.242641 -4.242641 \nC -5.367802 -3.117479 -6 -1.591219 -6 0 \nC -6 1.591219 -5.367802 3.117479 -4.242641 4.242641 \nC -3.117479 5.367802 -1.591219 6 0 6 \nz\n\" style=\"stroke: #0000ff\"/>\n    </defs>\n    <g clip-path=\"url(#pd9351aa55b)\">\n     <use xlink:href=\"#mf1b59454d2\" x=\"81.864239\" y=\"46.5738\" style=\"fill: #0000ff; stroke: #0000ff\"/>\n     <use xlink:href=\"#mf1b59454d2\" x=\"149.500602\" y=\"410.090077\" style=\"fill: #0000ff; stroke: #0000ff\"/>\n     <use xlink:href=\"#mf1b59454d2\" x=\"217.136966\" y=\"415.218788\" style=\"fill: #0000ff; stroke: #0000ff\"/>\n     <use xlink:href=\"#mf1b59454d2\" x=\"284.77333\" y=\"416.565703\" style=\"fill: #0000ff; stroke: #0000ff\"/>\n     <use xlink:href=\"#mf1b59454d2\" x=\"352.409693\" y=\"416.443891\" style=\"fill: #0000ff; stroke: #0000ff\"/>\n     <use xlink:href=\"#mf1b59454d2\" x=\"420.046057\" y=\"401.439381\" style=\"fill: #0000ff; stroke: #0000ff\"/>\n     <use xlink:href=\"#mf1b59454d2\" x=\"487.68242\" y=\"400.98413\" style=\"fill: #0000ff; stroke: #0000ff\"/>\n     <use xlink:href=\"#mf1b59454d2\" x=\"555.318784\" y=\"401.199538\" style=\"fill: #0000ff; stroke: #0000ff\"/>\n     <use xlink:href=\"#mf1b59454d2\" x=\"622.955148\" y=\"392.942669\" style=\"fill: #0000ff; stroke: #0000ff\"/>\n     <use xlink:href=\"#mf1b59454d2\" x=\"690.591511\" y=\"383.338429\" style=\"fill: #0000ff; stroke: #0000ff\"/>\n    </g>\n   </g>\n   <g id=\"patch_3\">\n    <path d=\"M 51.427875 469.9338 \nL 51.427875 26.4138 \n\" style=\"fill: none; stroke: #f0f0f0; stroke-width: 3; stroke-linejoin: miter; stroke-linecap: square\"/>\n   </g>\n   <g id=\"patch_4\">\n    <path d=\"M 721.027875 469.9338 \nL 721.027875 26.4138 \n\" style=\"fill: none; stroke: #f0f0f0; stroke-width: 3; stroke-linejoin: miter; stroke-linecap: square\"/>\n   </g>\n   <g id=\"patch_5\">\n    <path d=\"M 51.427875 469.9338 \nL 721.027875 469.9338 \n\" style=\"fill: none; stroke: #f0f0f0; stroke-width: 3; stroke-linejoin: miter; stroke-linecap: square\"/>\n   </g>\n   <g id=\"patch_6\">\n    <path d=\"M 51.427875 26.4138 \nL 721.027875 26.4138 \n\" style=\"fill: none; stroke: #f0f0f0; stroke-width: 3; stroke-linejoin: miter; stroke-linecap: square\"/>\n   </g>\n   <g id=\"text_13\">\n    <!-- degree of polynomial vs. train and CV MSEs -->\n    <g transform=\"translate(195.772575 20.4138) scale(0.1728 -0.1728)\">\n     <defs>\n      <path id=\"Verdana-20\" transform=\"scale(0.015625)\"/>\n      <path id=\"Verdana-6f\" d=\"M 3553 1744 \nQ 3553 891 3115 397 \nQ 2678 -97 1944 -97 \nQ 1203 -97 767 397 \nQ 331 891 331 1744 \nQ 331 2597 767 3092 \nQ 1203 3588 1944 3588 \nQ 2678 3588 3115 3092 \nQ 3553 2597 3553 1744 \nz\nM 2947 1744 \nQ 2947 2422 2681 2751 \nQ 2416 3081 1944 3081 \nQ 1466 3081 1202 2751 \nQ 938 2422 938 1744 \nQ 938 1088 1203 748 \nQ 1469 409 1944 409 \nQ 2413 409 2680 745 \nQ 2947 1081 2947 1744 \nz\n\" transform=\"scale(0.015625)\"/>\n      <path id=\"Verdana-66\" d=\"M 2456 4294 \nL 2425 4294 \nQ 2328 4322 2172 4351 \nQ 2016 4381 1897 4381 \nQ 1519 4381 1348 4214 \nQ 1178 4047 1178 3609 \nL 1178 3491 \nL 2238 3491 \nL 2238 2997 \nL 1197 2997 \nL 1197 0 \nL 609 0 \nL 609 2997 \nL 213 2997 \nL 213 3491 \nL 609 3491 \nL 609 3606 \nQ 609 4228 918 4561 \nQ 1228 4894 1813 4894 \nQ 2009 4894 2167 4875 \nQ 2325 4856 2456 4831 \nL 2456 4294 \nz\n\" transform=\"scale(0.015625)\"/>\n      <path id=\"Verdana-70\" d=\"M 3650 1788 \nQ 3650 1363 3528 1011 \nQ 3406 659 3184 416 \nQ 2978 184 2698 57 \nQ 2419 -69 2106 -69 \nQ 1834 -69 1614 -9 \nQ 1394 50 1166 175 \nL 1166 -1288 \nL 578 -1288 \nL 578 3491 \nL 1166 3491 \nL 1166 3125 \nQ 1400 3322 1692 3455 \nQ 1984 3588 2316 3588 \nQ 2947 3588 3298 3111 \nQ 3650 2634 3650 1788 \nz\nM 3044 1772 \nQ 3044 2403 2828 2715 \nQ 2613 3028 2166 3028 \nQ 1913 3028 1656 2918 \nQ 1400 2809 1166 2631 \nL 1166 653 \nQ 1416 541 1595 500 \nQ 1775 459 2003 459 \nQ 2494 459 2769 790 \nQ 3044 1122 3044 1772 \nz\n\" transform=\"scale(0.015625)\"/>\n      <path id=\"Verdana-6c\" d=\"M 1172 0 \nL 584 0 \nL 584 4863 \nL 1172 4863 \nL 1172 0 \nz\n\" transform=\"scale(0.015625)\"/>\n      <path id=\"Verdana-79\" d=\"M 3597 3491 \nL 1559 -1288 \nL 931 -1288 \nL 1581 169 \nL 191 3491 \nL 828 3491 \nL 1900 903 \nL 2981 3491 \nL 3597 3491 \nz\n\" transform=\"scale(0.015625)\"/>\n      <path id=\"Verdana-6e\" d=\"M 3497 0 \nL 2909 0 \nL 2909 1988 \nQ 2909 2228 2881 2439 \nQ 2853 2650 2778 2769 \nQ 2700 2900 2553 2964 \nQ 2406 3028 2172 3028 \nQ 1931 3028 1668 2909 \nQ 1406 2791 1166 2606 \nL 1166 0 \nL 578 0 \nL 578 3491 \nL 1166 3491 \nL 1166 3103 \nQ 1441 3331 1734 3459 \nQ 2028 3588 2338 3588 \nQ 2903 3588 3200 3247 \nQ 3497 2906 3497 2266 \nL 3497 0 \nz\n\" transform=\"scale(0.015625)\"/>\n      <path id=\"Verdana-6d\" d=\"M 5672 0 \nL 5084 0 \nL 5084 1988 \nQ 5084 2213 5064 2422 \nQ 5044 2631 4978 2756 \nQ 4906 2891 4772 2959 \nQ 4638 3028 4384 3028 \nQ 4138 3028 3891 2904 \nQ 3644 2781 3397 2591 \nQ 3406 2519 3412 2423 \nQ 3419 2328 3419 2234 \nL 3419 0 \nL 2831 0 \nL 2831 1988 \nQ 2831 2219 2811 2426 \nQ 2791 2634 2725 2759 \nQ 2653 2894 2518 2961 \nQ 2384 3028 2131 3028 \nQ 1891 3028 1648 2909 \nQ 1406 2791 1166 2606 \nL 1166 0 \nL 578 0 \nL 578 3491 \nL 1166 3491 \nL 1166 3103 \nQ 1441 3331 1714 3459 \nQ 1988 3588 2297 3588 \nQ 2653 3588 2901 3438 \nQ 3150 3288 3272 3022 \nQ 3628 3322 3922 3455 \nQ 4216 3588 4550 3588 \nQ 5125 3588 5398 3239 \nQ 5672 2891 5672 2266 \nL 5672 0 \nz\n\" transform=\"scale(0.015625)\"/>\n      <path id=\"Verdana-69\" d=\"M 1209 4075 \nL 547 4075 \nL 547 4684 \nL 1209 4684 \nL 1209 4075 \nz\nM 1172 0 \nL 584 0 \nL 584 3491 \nL 1172 3491 \nL 1172 0 \nz\n\" transform=\"scale(0.015625)\"/>\n      <path id=\"Verdana-61\" d=\"M 3291 0 \nL 2706 0 \nL 2706 372 \nQ 2628 319 2495 223 \nQ 2363 128 2238 72 \nQ 2091 0 1900 -48 \nQ 1709 -97 1453 -97 \nQ 981 -97 653 215 \nQ 325 528 325 1013 \nQ 325 1409 495 1654 \nQ 666 1900 981 2041 \nQ 1300 2181 1747 2231 \nQ 2194 2281 2706 2306 \nL 2706 2397 \nQ 2706 2597 2636 2728 \nQ 2566 2859 2434 2934 \nQ 2309 3006 2134 3031 \nQ 1959 3056 1769 3056 \nQ 1538 3056 1253 2995 \nQ 969 2934 666 2819 \nL 634 2819 \nL 634 3416 \nQ 806 3463 1131 3519 \nQ 1456 3575 1772 3575 \nQ 2141 3575 2414 3514 \nQ 2688 3453 2888 3306 \nQ 3084 3163 3187 2934 \nQ 3291 2706 3291 2369 \nL 3291 0 \nz\nM 2706 859 \nL 2706 1831 \nQ 2438 1816 2073 1784 \nQ 1709 1753 1497 1694 \nQ 1244 1622 1087 1470 \nQ 931 1319 931 1053 \nQ 931 753 1112 601 \nQ 1294 450 1666 450 \nQ 1975 450 2231 570 \nQ 2488 691 2706 859 \nz\n\" transform=\"scale(0.015625)\"/>\n      <path id=\"Verdana-76\" d=\"M 3597 3491 \nL 2184 0 \nL 1594 0 \nL 191 3491 \nL 828 3491 \nL 1909 713 \nL 2981 3491 \nL 3597 3491 \nz\n\" transform=\"scale(0.015625)\"/>\n      <path id=\"Verdana-73\" d=\"M 3072 1006 \nQ 3072 528 2676 222 \nQ 2281 -84 1597 -84 \nQ 1209 -84 886 8 \nQ 563 100 344 209 \nL 344 869 \nL 375 869 \nQ 653 659 993 536 \nQ 1334 413 1647 413 \nQ 2034 413 2253 538 \nQ 2472 663 2472 931 \nQ 2472 1138 2353 1244 \nQ 2234 1350 1897 1425 \nQ 1772 1453 1570 1490 \nQ 1369 1528 1203 1572 \nQ 744 1694 551 1930 \nQ 359 2166 359 2509 \nQ 359 2725 448 2915 \nQ 538 3106 719 3256 \nQ 894 3403 1164 3489 \nQ 1434 3575 1769 3575 \nQ 2081 3575 2401 3498 \nQ 2722 3422 2934 3313 \nL 2934 2684 \nL 2903 2684 \nQ 2678 2850 2356 2964 \nQ 2034 3078 1725 3078 \nQ 1403 3078 1181 2954 \nQ 959 2831 959 2588 \nQ 959 2372 1094 2263 \nQ 1225 2153 1519 2084 \nQ 1681 2047 1882 2009 \nQ 2084 1972 2219 1941 \nQ 2628 1847 2850 1619 \nQ 3072 1388 3072 1006 \nz\n\" transform=\"scale(0.015625)\"/>\n      <path id=\"Verdana-2e\" d=\"M 1538 0 \nL 791 0 \nL 791 891 \nL 1538 891 \nL 1538 0 \nz\n\" transform=\"scale(0.015625)\"/>\n      <path id=\"Verdana-74\" d=\"M 2391 31 \nQ 2225 -13 2029 -41 \nQ 1834 -69 1681 -69 \nQ 1147 -69 869 218 \nQ 591 506 591 1141 \nL 591 2997 \nL 194 2997 \nL 194 3491 \nL 591 3491 \nL 591 4494 \nL 1178 4494 \nL 1178 3491 \nL 2391 3491 \nL 2391 2997 \nL 1178 2997 \nL 1178 1406 \nQ 1178 1131 1190 976 \nQ 1203 822 1278 688 \nQ 1347 563 1467 505 \nQ 1588 447 1834 447 \nQ 1978 447 2134 489 \nQ 2291 531 2359 559 \nL 2391 559 \nL 2391 31 \nz\n\" transform=\"scale(0.015625)\"/>\n      <path id=\"Verdana-43\" d=\"M 4219 338 \nQ 4047 263 3908 197 \nQ 3769 131 3544 59 \nQ 3353 0 3129 -42 \nQ 2906 -84 2638 -84 \nQ 2131 -84 1717 58 \nQ 1303 200 997 503 \nQ 697 800 528 1258 \nQ 359 1716 359 2322 \nQ 359 2897 521 3350 \nQ 684 3803 991 4116 \nQ 1288 4419 1708 4578 \nQ 2128 4738 2641 4738 \nQ 3016 4738 3389 4647 \nQ 3763 4556 4219 4328 \nL 4219 3594 \nL 4172 3594 \nQ 3788 3916 3409 4062 \nQ 3031 4209 2600 4209 \nQ 2247 4209 1964 4095 \nQ 1681 3981 1459 3741 \nQ 1244 3506 1123 3148 \nQ 1003 2791 1003 2322 \nQ 1003 1831 1136 1478 \nQ 1269 1125 1478 903 \nQ 1697 672 1989 561 \nQ 2281 450 2606 450 \nQ 3053 450 3443 603 \nQ 3834 756 4175 1063 \nL 4219 1063 \nL 4219 338 \nz\n\" transform=\"scale(0.015625)\"/>\n      <path id=\"Verdana-56\" d=\"M 4294 4653 \nL 2600 0 \nL 1775 0 \nL 81 4653 \nL 744 4653 \nL 2203 559 \nL 3663 4653 \nL 4294 4653 \nz\n\" transform=\"scale(0.015625)\"/>\n     </defs>\n     <use xlink:href=\"#Verdana-64\"/>\n     <use xlink:href=\"#Verdana-65\" x=\"62.304688\"/>\n     <use xlink:href=\"#Verdana-67\" x=\"121.875\"/>\n     <use xlink:href=\"#Verdana-72\" x=\"184.179688\"/>\n     <use xlink:href=\"#Verdana-65\" x=\"226.855469\"/>\n     <use xlink:href=\"#Verdana-65\" x=\"286.425781\"/>\n     <use xlink:href=\"#Verdana-20\" x=\"345.996094\"/>\n     <use xlink:href=\"#Verdana-6f\" x=\"381.152344\"/>\n     <use xlink:href=\"#Verdana-66\" x=\"441.845703\"/>\n     <use xlink:href=\"#Verdana-20\" x=\"477.001953\"/>\n     <use xlink:href=\"#Verdana-70\" x=\"512.158203\"/>\n     <use xlink:href=\"#Verdana-6f\" x=\"574.462891\"/>\n     <use xlink:href=\"#Verdana-6c\" x=\"635.15625\"/>\n     <use xlink:href=\"#Verdana-79\" x=\"662.597656\"/>\n     <use xlink:href=\"#Verdana-6e\" x=\"721.777344\"/>\n     <use xlink:href=\"#Verdana-6f\" x=\"785.058594\"/>\n     <use xlink:href=\"#Verdana-6d\" x=\"845.751953\"/>\n     <use xlink:href=\"#Verdana-69\" x=\"943.017578\"/>\n     <use xlink:href=\"#Verdana-61\" x=\"970.458984\"/>\n     <use xlink:href=\"#Verdana-6c\" x=\"1030.517578\"/>\n     <use xlink:href=\"#Verdana-20\" x=\"1057.958984\"/>\n     <use xlink:href=\"#Verdana-76\" x=\"1093.115234\"/>\n     <use xlink:href=\"#Verdana-73\" x=\"1152.294922\"/>\n     <use xlink:href=\"#Verdana-2e\" x=\"1204.394531\"/>\n     <use xlink:href=\"#Verdana-20\" x=\"1240.771484\"/>\n     <use xlink:href=\"#Verdana-74\" x=\"1275.927734\"/>\n     <use xlink:href=\"#Verdana-72\" x=\"1315.332031\"/>\n     <use xlink:href=\"#Verdana-61\" x=\"1356.257812\"/>\n     <use xlink:href=\"#Verdana-69\" x=\"1416.316406\"/>\n     <use xlink:href=\"#Verdana-6e\" x=\"1443.757812\"/>\n     <use xlink:href=\"#Verdana-20\" x=\"1507.039062\"/>\n     <use xlink:href=\"#Verdana-61\" x=\"1542.195312\"/>\n     <use xlink:href=\"#Verdana-6e\" x=\"1602.253906\"/>\n     <use xlink:href=\"#Verdana-64\" x=\"1665.535156\"/>\n     <use xlink:href=\"#Verdana-20\" x=\"1727.839844\"/>\n     <use xlink:href=\"#Verdana-43\" x=\"1762.996094\"/>\n     <use xlink:href=\"#Verdana-56\" x=\"1832.820312\"/>\n     <use xlink:href=\"#Verdana-20\" x=\"1901.179688\"/>\n     <use xlink:href=\"#Verdana-4d\" x=\"1936.335938\"/>\n     <use xlink:href=\"#Verdana-53\" x=\"2020.613281\"/>\n     <use xlink:href=\"#Verdana-45\" x=\"2088.972656\"/>\n     <use xlink:href=\"#Verdana-73\" x=\"2152.205078\"/>\n    </g>\n   </g>\n   <g id=\"legend_1\">\n    <g id=\"patch_7\">\n     <path d=\"M 591.756 71.1438 \nL 712.627875 71.1438 \nQ 715.027875 71.1438 715.027875 68.7438 \nL 715.027875 34.8138 \nQ 715.027875 32.4138 712.627875 32.4138 \nL 591.756 32.4138 \nQ 589.356 32.4138 589.356 34.8138 \nL 589.356 68.7438 \nQ 589.356 71.1438 591.756 71.1438 \nz\n\" style=\"fill: #ffffff; opacity: 0.8; stroke: #cccccc; stroke-width: 0.5; stroke-linejoin: miter\"/>\n    </g>\n    <g id=\"line2d_13\">\n     <path d=\"M 594.156 42.131925 \nL 606.156 42.131925 \nL 618.156 42.131925 \n\" style=\"fill: none; stroke: #ff0000; stroke-width: 4\"/>\n     <g>\n      <use xlink:href=\"#m8e1b56b658\" x=\"606.156\" y=\"42.131925\" style=\"fill: #ff0000; stroke: #ff0000\"/>\n     </g>\n    </g>\n    <g id=\"text_14\">\n     <!-- training MSEs -->\n     <g transform=\"translate(627.756 46.331925) scale(0.12 -0.12)\">\n      <use xlink:href=\"#Verdana-74\"/>\n      <use xlink:href=\"#Verdana-72\" x=\"39.404297\"/>\n      <use xlink:href=\"#Verdana-61\" x=\"80.330078\"/>\n      <use xlink:href=\"#Verdana-69\" x=\"140.388672\"/>\n      <use xlink:href=\"#Verdana-6e\" x=\"167.830078\"/>\n      <use xlink:href=\"#Verdana-69\" x=\"231.111328\"/>\n      <use xlink:href=\"#Verdana-6e\" x=\"258.552734\"/>\n      <use xlink:href=\"#Verdana-67\" x=\"321.833984\"/>\n      <use xlink:href=\"#Verdana-20\" x=\"384.138672\"/>\n      <use xlink:href=\"#Verdana-4d\" x=\"419.294922\"/>\n      <use xlink:href=\"#Verdana-53\" x=\"503.572266\"/>\n      <use xlink:href=\"#Verdana-45\" x=\"571.931641\"/>\n      <use xlink:href=\"#Verdana-73\" x=\"635.164062\"/>\n     </g>\n    </g>\n    <g id=\"line2d_14\">\n     <path d=\"M 594.156 59.7288 \nL 606.156 59.7288 \nL 618.156 59.7288 \n\" style=\"fill: none; stroke: #0000ff; stroke-width: 4\"/>\n     <g>\n      <use xlink:href=\"#mf1b59454d2\" x=\"606.156\" y=\"59.7288\" style=\"fill: #0000ff; stroke: #0000ff\"/>\n     </g>\n    </g>\n    <g id=\"text_15\">\n     <!-- CV MSEs -->\n     <g transform=\"translate(627.756 63.9288) scale(0.12 -0.12)\">\n      <use xlink:href=\"#Verdana-43\"/>\n      <use xlink:href=\"#Verdana-56\" x=\"69.824219\"/>\n      <use xlink:href=\"#Verdana-20\" x=\"138.183594\"/>\n      <use xlink:href=\"#Verdana-4d\" x=\"173.339844\"/>\n      <use xlink:href=\"#Verdana-53\" x=\"257.617188\"/>\n      <use xlink:href=\"#Verdana-45\" x=\"325.976562\"/>\n      <use xlink:href=\"#Verdana-73\" x=\"389.208984\"/>\n     </g>\n    </g>\n   </g>\n  </g>\n </g>\n <defs>\n  <clipPath id=\"pd9351aa55b\">\n   <rect x=\"51.427875\" y=\"26.4138\" width=\"669.6\" height=\"443.52\"/>\n  </clipPath>\n </defs>\n</svg>\n",
      "image/png": "[encoded data removed]"
     },
     "metadata": {}
    }
   ],
   "metadata": {}
  },
  {
   "cell_type": "markdown",
   "source": [
    "## Choosing the best model\n",
    "\n",
    "When selecting a model, you want to choose one that performs well both on the training and cross validation set. It implies that it is able to learn the patterns from your training set without overfitting. If you used the defaults in this lab, you will notice a sharp drop in cross validation error from the models with degree=1 to degree=2. This is followed by a relatively flat line up to degree=5. After that, however, the cross validation error is generally getting worse as you add more polynomial features. Given these, you can decide to use the model with the lowest `cv_mse` as the one best suited for your application."
   ],
   "metadata": {}
  },
  {
   "cell_type": "code",
   "execution_count": 40,
   "source": [
    "# Get the model with the lowest CV MSE (add 1 because list indices start at 0)\n",
    "# This also corresponds to the degree of the polynomial added\n",
    "degree = np.argmin(cv_mses) + 1\n",
    "print(f\"Lowest CV MSE is found in the model with degree={degree}\")"
   ],
   "outputs": [
    {
     "output_type": "stream",
     "name": "stdout",
     "text": [
      "Lowest CV MSE is found in the model with degree=4\n"
     ]
    }
   ],
   "metadata": {}
  },
  {
   "cell_type": "markdown",
   "source": [
    "You can then publish the generalization error by computing the test set's MSE. As usual, you should transform this data the same way you did with the training and cross validation sets."
   ],
   "metadata": {}
  },
  {
   "cell_type": "code",
   "execution_count": 41,
   "source": [
    "# Add polynomial features to the test set\n",
    "poly = PolynomialFeatures(degree, include_bias=False)\n",
    "X_test_mapped = poly.fit_transform(x_test)\n",
    "\n",
    "# Scale the test set\n",
    "X_test_mapped_scaled = scalers[degree-1].transform(X_test_mapped)\n",
    "\n",
    "# Compute the test MSE\n",
    "yhat = models[degree-1].predict(X_test_mapped_scaled)\n",
    "test_mse = mean_squared_error(y_test, yhat) / 2\n",
    "\n",
    "print(f\"Training MSE: {train_mses[degree-1]:.2f}\")\n",
    "print(f\"Cross Validation MSE: {cv_mses[degree-1]:.2f}\")\n",
    "print(f\"Test MSE: {test_mse:.2f}\")"
   ],
   "outputs": [
    {
     "output_type": "stream",
     "name": "stdout",
     "text": [
      "Training MSE: 47.15\n",
      "Cross Validation MSE: 79.43\n",
      "Test MSE: 104.63\n"
     ]
    }
   ],
   "metadata": {}
  },
  {
   "cell_type": "markdown",
   "source": [
    "## Neural Networks"
   ],
   "metadata": {}
  },
  {
   "cell_type": "markdown",
   "source": [
    "### prepare the data"
   ],
   "metadata": {}
  },
  {
   "cell_type": "code",
   "execution_count": 46,
   "source": [
    "degree = 1\n",
    "poly = PolynomialFeatures(degree,include_bias=False)\n",
    "X_train_mapped = poly.fit_transform(x_train)\n",
    "X_cv_mapped = poly.transform(x_cv)\n",
    "X_test_mapped = poly.transform(x_test)"
   ],
   "outputs": [],
   "metadata": {}
  },
  {
   "cell_type": "markdown",
   "source": [
    "Next, you will scale the input features to help gradient descent converge faster. Again, notice that you are using the mean and standard deviation computed from the training set by just using transform() in the cross validation and test sets instead of fit_transform()."
   ],
   "metadata": {}
  },
  {
   "cell_type": "code",
   "execution_count": 47,
   "source": [
    "# Scale the features using the z-score\n",
    "standard_scaler = StandardScaler()\n",
    "X_train_mapped_scaled = standard_scaler.fit_transform(X_train_mapped)\n",
    "X_cv_mapped_scaled = standard_scaler.transform(X_cv_mapped)\n",
    "X_test_mapped_scaled = standard_scaler.transform(X_test_mapped)"
   ],
   "outputs": [],
   "metadata": {}
  },
  {
   "cell_type": "markdown",
   "source": [
    "### Build and train the models\n",
    "\n",
    "You will then create the neural network architectures shown earlier. The code is provided in the `build_models()` function in the `utils.py` file in case you want to inspect or modify it. You will use that in the loop below then proceed to train the models. For each model, you will also record the training and cross validation errors."
   ],
   "metadata": {}
  },
  {
   "cell_type": "code",
   "execution_count": 48,
   "source": [
    "# mean squared erros for training and crossvalidation data sets\n",
    "nn_mses_train = []\n",
    "nn_mses_cv = []\n",
    "\n",
    "# build the models\n",
    "nn_models = utils.build_models()\n",
    "\n",
    "for model in nn_models:\n",
    "    # Specify cost function\n",
    "    # Setup the loss and optimizer\n",
    "    model.compile(loss=\"mse\",optimizer=tf.keras.optimizers.Adam(learning_rate=0.1))\n",
    "\n",
    "    # Train the model\n",
    "    model.fit(X_train_mapped_scaled,y_train,epochs=300,verbose=0)\n",
    "\n",
    "    print(f\"Training done for {model.name}\")\n",
    "\n",
    "    # Record the training MSEs\n",
    "    # compute cost for training data\n",
    "    yhat = model.predict(X_train_mapped_scaled)\n",
    "    trained_mse = mean_squared_error(y_train,yhat)/2\n",
    "    nn_mses_train.append(trained_mse)\n",
    "\n",
    "    # Record the cv MSEs\n",
    "    # compute cost for cv data\n",
    "    yhat = model.predict(X_cv_mapped_scaled)\n",
    "    cv_mse = mean_squared_error(y_cv,yhat)/2\n",
    "    nn_mses_cv.append(cv_mse)\n",
    "\n",
    "    print(\"Done \\n\")\n",
    "\n",
    "\n",
    "# print results\n",
    "print(\"RESULTS:\")\n",
    "for model_num in range(len(nn_models)):\n",
    "    print(\n",
    "        f\"Model {model_num+1}: Training MSE: {nn_mses_train[model_num]:.2f}, \" +\n",
    "        f\"CV MSE: {nn_mses_cv[model_num]:.2f}\"\n",
    "        )\n",
    "\n",
    "# Best Performing model\n",
    "print(f\"Best perfroming model is Model: {np.argmin(nn_mses_cv)+1}\")\n",
    "\n"
   ],
   "outputs": [
    {
     "output_type": "stream",
     "name": "stderr",
     "text": [
      "2023-03-26 14:13:45.722545: I tensorflow/core/grappler/optimizers/custom_graph_optimizer_registry.cc:113] Plugin optimizer for device_type GPU is enabled.\n"
     ]
    },
    {
     "output_type": "stream",
     "name": "stdout",
     "text": [
      "Training done for model_1\n",
      "1/1 [==============================] - 0s 30ms/step\n",
      "1/1 [==============================] - 0s 16ms/step\n",
      "Done \n",
      "\n"
     ]
    },
    {
     "output_type": "stream",
     "name": "stderr",
     "text": [
      "2023-03-26 14:13:47.350717: I tensorflow/core/grappler/optimizers/custom_graph_optimizer_registry.cc:113] Plugin optimizer for device_type GPU is enabled.\n",
      "2023-03-26 14:13:47.633761: I tensorflow/core/grappler/optimizers/custom_graph_optimizer_registry.cc:113] Plugin optimizer for device_type GPU is enabled.\n"
     ]
    },
    {
     "output_type": "stream",
     "name": "stdout",
     "text": [
      "Training done for model_2\n",
      "1/1 [==============================] - 0s 40ms/step\n",
      "1/1 [==============================] - 0s 21ms/step\n",
      "Done \n",
      "\n"
     ]
    },
    {
     "output_type": "stream",
     "name": "stderr",
     "text": [
      "2023-03-26 14:13:49.603503: I tensorflow/core/grappler/optimizers/custom_graph_optimizer_registry.cc:113] Plugin optimizer for device_type GPU is enabled.\n",
      "2023-03-26 14:13:49.906388: I tensorflow/core/grappler/optimizers/custom_graph_optimizer_registry.cc:113] Plugin optimizer for device_type GPU is enabled.\n"
     ]
    },
    {
     "output_type": "stream",
     "name": "stdout",
     "text": [
      "Training done for model_3\n",
      "1/1 [==============================] - 0s 48ms/step\n",
      "1/1 [==============================] - 0s 25ms/step\n",
      "Done \n",
      "\n",
      "RESULTS:\n",
      "Model 1: Training MSE: 73.44, CV MSE: 113.87\n",
      "Model 2: Training MSE: 73.40, CV MSE: 112.28\n",
      "Model 3: Training MSE: 44.56, CV MSE: 88.15\n",
      "Best perfroming model is Model: 3\n"
     ]
    },
    {
     "output_type": "stream",
     "name": "stderr",
     "text": [
      "2023-03-26 14:13:52.049186: I tensorflow/core/grappler/optimizers/custom_graph_optimizer_registry.cc:113] Plugin optimizer for device_type GPU is enabled.\n"
     ]
    }
   ],
   "metadata": {}
  },
  {
   "cell_type": "markdown",
   "source": [
    "From the recorded errors, you can decide which is the best model for your application. Look at the results above and see if you agree with the selected `model_num` below. Finally, you will compute the test error to estimate how well it generalizes to new examples."
   ],
   "metadata": {}
  },
  {
   "cell_type": "code",
   "execution_count": 49,
   "source": [
    "# Select the model with the lowest CV MSE\n",
    "model_num = 3\n",
    "\n",
    "# Compute the test MSE\n",
    "yhat = nn_models[model_num-1].predict(X_test_mapped_scaled)\n",
    "test_mse = mean_squared_error(y_test, yhat) / 2\n",
    "\n",
    "print(f\"Selected Model: {model_num}\")\n",
    "print(f\"Training MSE: {nn_mses_train[model_num-1]:.2f}\")\n",
    "print(f\"Cross Validation MSE: {nn_mses_cv[model_num-1]:.2f}\")\n",
    "print(f\"Test MSE: {test_mse:.2f}\")"
   ],
   "outputs": [
    {
     "output_type": "stream",
     "name": "stdout",
     "text": [
      "1/1 [==============================] - 0s 12ms/step\n",
      "Selected Model: 3\n",
      "Training MSE: 44.56\n",
      "Cross Validation MSE: 88.15\n",
      "Test MSE: 87.20\n"
     ]
    }
   ],
   "metadata": {}
  },
  {
   "cell_type": "markdown",
   "source": [
    "## Classification"
   ],
   "metadata": {}
  },
  {
   "cell_type": "markdown",
   "source": [
    "### Load Data"
   ],
   "metadata": {}
  },
  {
   "cell_type": "code",
   "execution_count": 76,
   "source": [
    "# Load the data set\n",
    "data = np.loadtxt('./data/data_w3_ex2.csv', delimiter=',')\n",
    "\n",
    "# Split the inputs and outputs into separate arrays\n",
    "x_bc = data[:,:-1]\n",
    "y_bc = data[:,-1:]\n",
    "\n",
    "print(f\"the shape of the inputs x is: {x_bc.shape}\")\n",
    "print(f\"the shape of the targets y is: {y_bc.shape}\")"
   ],
   "outputs": [
    {
     "output_type": "stream",
     "name": "stdout",
     "text": [
      "the shape of the inputs x is: (200, 2)\n",
      "the shape of the targets y is: (200, 1)\n"
     ]
    }
   ],
   "metadata": {}
  },
  {
   "cell_type": "markdown",
   "source": [
    "You can plot the dataset to examine how the examples are separated."
   ],
   "metadata": {}
  },
  {
   "cell_type": "code",
   "execution_count": null,
   "source": [
    "utils.plot_bc_dataset(x=x_bc, y=y_bc, title=\"x1 vs. x2\")"
   ],
   "outputs": [],
   "metadata": {}
  },
  {
   "cell_type": "markdown",
   "source": [
    "### Split the dataset\n",
    "\n",
    "Next, you will generate the training, cross validation, and test sets. You will use the same 60/20/20 proportions as before."
   ],
   "metadata": {}
  },
  {
   "cell_type": "code",
   "execution_count": 78,
   "source": [
    "from sklearn.model_selection import train_test_split\n",
    "\n",
    "# Get 60% of the dataset as the training set. Put the remaining 40% in temporary variables.\n",
    "x_bc_train, x_, y_bc_train, y_ = train_test_split(x_bc, y_bc, test_size=0.40, random_state=1)\n",
    "\n",
    "# Split the 40% subset above into two: one half for cross validation and the other for the test set\n",
    "x_bc_cv, x_bc_test, y_bc_cv, y_bc_test = train_test_split(x_, y_, test_size=0.50, random_state=1)\n",
    "\n",
    "# Delete temporary variables\n",
    "del x_, y_\n",
    "\n",
    "print(f\"the shape of the training set (input) is: {x_bc_train.shape}\")\n",
    "print(f\"the shape of the training set (target) is: {y_bc_train.shape}\\n\")\n",
    "print(f\"the shape of the cross validation set (input) is: {x_bc_cv.shape}\")\n",
    "print(f\"the shape of the cross validation set (target) is: {y_bc_cv.shape}\\n\")\n",
    "print(f\"the shape of the test set (input) is: {x_bc_test.shape}\")\n",
    "print(f\"the shape of the test set (target) is: {y_bc_test.shape}\")"
   ],
   "outputs": [
    {
     "output_type": "stream",
     "name": "stdout",
     "text": [
      "the shape of the training set (input) is: (120, 2)\n",
      "the shape of the training set (target) is: (120, 1)\n",
      "\n",
      "the shape of the cross validation set (input) is: (40, 2)\n",
      "the shape of the cross validation set (target) is: (40, 1)\n",
      "\n",
      "the shape of the test set (input) is: (40, 2)\n",
      "the shape of the test set (target) is: (40, 1)\n"
     ]
    }
   ],
   "metadata": {}
  },
  {
   "cell_type": "markdown",
   "source": [
    "### Evaluating the error for classification models\n",
    "\n",
    "In the previous sections on regression models, you used the mean squared error to measure how well your model is doing. For classification, you can get a similar metric by getting the fraction of the data that the model has misclassified. For example, if your model made wrong predictions for 2 samples out of 5, then you will report an error of `40%` or `0.4`. The code below demonstrates this using a for-loop and also with Numpy's [`mean()`](https://numpy.org/doc/stable/reference/generated/numpy.mean.html) function. "
   ],
   "metadata": {}
  },
  {
   "cell_type": "code",
   "execution_count": 79,
   "source": [
    "# Sample model output\n",
    "probabilities = np.array([0.2, 0.6, 0.7, 0.3, 0.8])\n",
    "\n",
    "# Apply a threshold to the model output. If greater than 0.5, set to 1. Else 0.\n",
    "predictions = np.where(probabilities >= 0.5, 1, 0)\n",
    "\n",
    "# Ground truth labels\n",
    "ground_truth = np.array([1, 1, 1, 1, 1])\n",
    "\n",
    "# Initialize counter for misclassified data\n",
    "misclassified = 0\n",
    "\n",
    "# Get number of predictions\n",
    "num_predictions = len(predictions)\n",
    "\n",
    "# Loop over each prediction\n",
    "for i in range(num_predictions):\n",
    "    \n",
    "    # Check if it matches the ground truth\n",
    "    if predictions[i] != ground_truth[i]:\n",
    "        \n",
    "        # Add one to the counter if the prediction is wrong\n",
    "        misclassified += 1\n",
    "\n",
    "# Compute the fraction of the data that the model misclassified\n",
    "fraction_error = misclassified/num_predictions\n",
    "\n",
    "print(f\"probabilities: {probabilities}\")\n",
    "print(f\"predictions with threshold=0.5: {predictions}\")\n",
    "print(f\"targets: {ground_truth}\")\n",
    "print(f\"fraction of misclassified data (for-loop): {fraction_error}\")\n",
    "print(f\"fraction of misclassified data (with np.mean()): {np.mean(predictions != ground_truth)}\")"
   ],
   "outputs": [
    {
     "output_type": "stream",
     "name": "stdout",
     "text": [
      "probabilities: [0.2 0.6 0.7 0.3 0.8]\n",
      "predictions with threshold=0.5: [0 1 1 0 1]\n",
      "targets: [1 1 1 1 1]\n",
      "fraction of misclassified data (for-loop): 0.4\n",
      "fraction of misclassified data (with np.mean()): 0.4\n"
     ]
    }
   ],
   "metadata": {}
  },
  {
   "cell_type": "code",
   "execution_count": 87,
   "source": [
    "# classification erros for training and crossvalidation data sets\n",
    "nn_train_error = []\n",
    "nn_cv_error = []\n",
    "\n",
    "# build the models\n",
    "nn_models = utils.build_models()\n",
    "\n",
    "def sigmoid(z):\n",
    "    return 1/(1+np.exp(-z))\n",
    "\n",
    "for model in nn_models:\n",
    "    \n",
    "    # cost function\n",
    "    model.compile(loss=tf.keras.losses.BinaryCrossentropy(from_logits=True),optimizer=tf.keras.optimizers.Adam(learning_rate=0.01))\n",
    "\n",
    "    # train the model\n",
    "    model.fit(x_bc_train,y_bc_train,epochs=200,verbose=0)\n",
    "\n",
    "    # Set the threshold for classification\n",
    "    threshold = 0.5\n",
    "\n",
    "    # Record the fraction of misclassified examples for the training set\n",
    "    yhat = model.predict(x_bc_train)\n",
    "    yhat = tf.math.sigmoid(yhat)\n",
    "    yhat = np.where(yhat >= threshold, 1, 0)\n",
    "    train_error = np.mean(yhat!=y_bc_train)\n",
    "    nn_train_error.append(train_error)\n",
    "\n",
    "    # Record the fraction of misclassified examples for the cross validation set\n",
    "    yhat = model.predict(x_bc_cv)\n",
    "    yhat = tf.math.sigmoid(yhat)\n",
    "    yhat = np.where(yhat >= 0.5,1,0)\n",
    "    cv_error = np.mean(yhat != y_bc_cv)\n",
    "    nn_cv_error.append(cv_error)\n",
    "\n",
    "    # Print the result\n",
    "    for model_num in range(len(nn_train_error)):\n",
    "        print(\n",
    "            f\"Model {model_num+1}: Training Set Classification Error: {nn_train_error[model_num]:.5f}, \" +\n",
    "            f\"CV Set Classification Error: {nn_cv_error[model_num]:.5f}\"\n",
    "            )\n",
    "\n",
    "# You this is how sigmoid,np.where,and np.mean are calculatin the values\n",
    "\n",
    "#     pred_train = model.predict(x_bc_train)\n",
    "#     pred_cv = model.predict(x_bc_cv)\n",
    "\n",
    "#     train_probabilites = sigmoid(pred_train)\n",
    "#     cv_probabilites = sigmoid(pred_cv)\n",
    "\n",
    "#     yhat_train = np.where(train_probabilites>0.5,1,0)\n",
    "#     yhat_cv = np.where(cv_probabilites>0.5,1,0)\n",
    "\n",
    "#     print(\"train data prediction\",yhat_train[:5])\n",
    "#     print(\"cv data prediction\",yhat_cv[:5])\n",
    "\n",
    "#     # compute the fraction error\n",
    "#     misclassified_train = 0;\n",
    "#     misclassified_cv = 0;\n",
    "\n",
    "#     for i in range(len(yhat_train)):\n",
    "#         if yhat_train[i] != y_bc_train[i]:\n",
    "#             misclassified_train+=1\n",
    "#     for j in range(len(yhat_cv)):\n",
    "#         if yhat_cv[j] != y_bc_cv[j]:\n",
    "#             misclassified_cv+=1\n",
    "        \n",
    "#     # Compute the fraction of the data that the model misclassified\n",
    "#     fraction_error_train = misclassified_train/len(yhat_train)\n",
    "#     fraction_error_cv = misclassified_cv/len(yhat_cv)\n",
    "\n",
    "#     nn_train_error.append(fraction_error_train)\n",
    "#     nn_cv_error.append(fraction_error_cv)\n",
    "\n",
    "# print(nn_train_error)\n",
    "# print(nn_cv_error)\n",
    "\n",
    "\n",
    "\n"
   ],
   "outputs": [
    {
     "output_type": "stream",
     "name": "stderr",
     "text": [
      "2023-03-26 17:38:42.988347: I tensorflow/core/grappler/optimizers/custom_graph_optimizer_registry.cc:113] Plugin optimizer for device_type GPU is enabled.\n"
     ]
    },
    {
     "output_type": "stream",
     "name": "stdout",
     "text": [
      "4/4 [==============================] - 0s 5ms/step\n",
      "2/2 [==============================] - 0s 12ms/step\n"
     ]
    },
    {
     "output_type": "stream",
     "name": "stderr",
     "text": [
      "2023-03-26 17:38:47.400452: I tensorflow/core/grappler/optimizers/custom_graph_optimizer_registry.cc:113] Plugin optimizer for device_type GPU is enabled.\n"
     ]
    },
    {
     "output_type": "stream",
     "name": "stdout",
     "text": [
      "Model 1: Training Set Classification Error: 0.18333, CV Set Classification Error: 0.10000\n"
     ]
    },
    {
     "output_type": "stream",
     "name": "stderr",
     "text": [
      "2023-03-26 17:38:47.730168: I tensorflow/core/grappler/optimizers/custom_graph_optimizer_registry.cc:113] Plugin optimizer for device_type GPU is enabled.\n"
     ]
    },
    {
     "output_type": "stream",
     "name": "stdout",
     "text": [
      "4/4 [==============================] - 0s 7ms/step\n",
      "2/2 [==============================] - 0s 15ms/step\n"
     ]
    },
    {
     "output_type": "stream",
     "name": "stderr",
     "text": [
      "2023-03-26 17:38:53.000647: I tensorflow/core/grappler/optimizers/custom_graph_optimizer_registry.cc:113] Plugin optimizer for device_type GPU is enabled.\n"
     ]
    },
    {
     "output_type": "stream",
     "name": "stdout",
     "text": [
      "Model 1: Training Set Classification Error: 0.18333, CV Set Classification Error: 0.10000\n",
      "Model 2: Training Set Classification Error: 0.13333, CV Set Classification Error: 0.10000\n"
     ]
    },
    {
     "output_type": "stream",
     "name": "stderr",
     "text": [
      "2023-03-26 17:38:53.362585: I tensorflow/core/grappler/optimizers/custom_graph_optimizer_registry.cc:113] Plugin optimizer for device_type GPU is enabled.\n"
     ]
    },
    {
     "output_type": "stream",
     "name": "stdout",
     "text": [
      "4/4 [==============================] - 0s 12ms/step\n",
      "2/2 [==============================] - 0s 25ms/step\n",
      "Model 1: Training Set Classification Error: 0.18333, CV Set Classification Error: 0.10000\n",
      "Model 2: Training Set Classification Error: 0.13333, CV Set Classification Error: 0.10000\n",
      "Model 3: Training Set Classification Error: 0.17500, CV Set Classification Error: 0.10000\n"
     ]
    },
    {
     "output_type": "stream",
     "name": "stderr",
     "text": [
      "2023-03-26 17:38:59.580221: I tensorflow/core/grappler/optimizers/custom_graph_optimizer_registry.cc:113] Plugin optimizer for device_type GPU is enabled.\n"
     ]
    }
   ],
   "metadata": {}
  },
  {
   "cell_type": "markdown",
   "source": [
    "From the output above, you can choose which one performed best. If there is a tie on the cross validation set error, then you can pick the one with the lower training set error. Finally, you can compute the test error to report the model's generalization error."
   ],
   "metadata": {}
  },
  {
   "cell_type": "code",
   "execution_count": 88,
   "source": [
    "# Select the model with the lowest error\n",
    "model_num = 2\n",
    "\n",
    "# Compute the test error\n",
    "yhat = nn_models[model_num-1].predict(x_bc_test)\n",
    "yhat = tf.math.sigmoid(yhat)\n",
    "yhat = np.where(yhat >= threshold, 1, 0)\n",
    "nn_test_error = np.mean(yhat != y_bc_test)\n",
    "\n",
    "print(f\"Selected Model: {model_num}\")\n",
    "print(f\"Training Set Classification Error: {nn_train_error[model_num-1]:.4f}\")\n",
    "print(f\"CV Set Classification Error: {nn_cv_error[model_num-1]:.4f}\")\n",
    "print(f\"Test Set Classification Error: {nn_test_error:.4f}\")"
   ],
   "outputs": [
    {
     "output_type": "error",
     "ename": "NameError",
     "evalue": "name 'models_bc' is not defined",
     "traceback": [
      "\u001b[0;31m---------------------------------------------------------------------------\u001b[0m",
      "\u001b[0;31mNameError\u001b[0m                                 Traceback (most recent call last)",
      "Cell \u001b[0;32mIn[88], line 5\u001b[0m\n\u001b[1;32m      2\u001b[0m model_num \u001b[38;5;241m=\u001b[39m \u001b[38;5;241m2\u001b[39m\n\u001b[1;32m      4\u001b[0m \u001b[38;5;66;03m# Compute the test error\u001b[39;00m\n\u001b[0;32m----> 5\u001b[0m yhat \u001b[38;5;241m=\u001b[39m \u001b[43mmodels_bc\u001b[49m[model_num\u001b[38;5;241m-\u001b[39m\u001b[38;5;241m1\u001b[39m]\u001b[38;5;241m.\u001b[39mpredict(x_bc_test)\n\u001b[1;32m      6\u001b[0m yhat \u001b[38;5;241m=\u001b[39m tf\u001b[38;5;241m.\u001b[39mmath\u001b[38;5;241m.\u001b[39msigmoid(yhat)\n\u001b[1;32m      7\u001b[0m yhat \u001b[38;5;241m=\u001b[39m np\u001b[38;5;241m.\u001b[39mwhere(yhat \u001b[38;5;241m>\u001b[39m\u001b[38;5;241m=\u001b[39m threshold, \u001b[38;5;241m1\u001b[39m, \u001b[38;5;241m0\u001b[39m)\n",
      "\u001b[0;31mNameError\u001b[0m: name 'models_bc' is not defined"
     ]
    }
   ],
   "metadata": {}
  },
  {
   "cell_type": "code",
   "execution_count": null,
   "source": [],
   "outputs": [],
   "metadata": {}
  }
 ],
 "metadata": {
  "orig_nbformat": 4,
  "language_info": {
   "name": "python",
   "version": "3.9.12",
   "mimetype": "text/x-python",
   "codemirror_mode": {
    "name": "ipython",
    "version": 3
   },
   "pygments_lexer": "ipython3",
   "nbconvert_exporter": "python",
   "file_extension": ".py"
  },
  "kernelspec": {
   "name": "python3",
   "display_name": "Python 3.9.12 64-bit ('ml_env': venv)"
  },
  "interpreter": {
   "hash": "32ccf6d8fd4b6578a07243d614f9f887f5db17c8a40014981f62dc87df55ea75"
  }
 },
 "nbformat": 4,
 "nbformat_minor": 2
}